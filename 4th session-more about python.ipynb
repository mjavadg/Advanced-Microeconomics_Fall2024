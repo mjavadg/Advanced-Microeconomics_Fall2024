{
 "cells": [
  {
   "cell_type": "markdown",
   "id": "6f90e588",
   "metadata": {},
   "source": [
    "# 4TH SESSION"
   ]
  },
  {
   "cell_type": "markdown",
   "id": "89ceb565",
   "metadata": {},
   "source": [
    "## applications of some functions"
   ]
  },
  {
   "cell_type": "markdown",
   "id": "19086cc8",
   "metadata": {},
   "source": [
    "### int(), str(), float()"
   ]
  },
  {
   "cell_type": "code",
   "execution_count": 12,
   "id": "a8f50fa1",
   "metadata": {},
   "outputs": [],
   "source": [
    "list1 = [4, 5, 6.2, 8 / 3, \"0\"]"
   ]
  },
  {
   "cell_type": "code",
   "execution_count": 13,
   "id": "ae0c8036",
   "metadata": {},
   "outputs": [
    {
     "data": {
      "text/plain": [
       "4"
      ]
     },
     "execution_count": 13,
     "metadata": {},
     "output_type": "execute_result"
    }
   ],
   "source": [
    "list1[0]"
   ]
  },
  {
   "cell_type": "code",
   "execution_count": 14,
   "id": "f4b4ac9b",
   "metadata": {},
   "outputs": [
    {
     "data": {
      "text/plain": [
       "5"
      ]
     },
     "execution_count": 14,
     "metadata": {},
     "output_type": "execute_result"
    }
   ],
   "source": [
    "list1[1]"
   ]
  },
  {
   "cell_type": "code",
   "execution_count": 16,
   "id": "733da799",
   "metadata": {},
   "outputs": [
    {
     "data": {
      "text/plain": [
       "str"
      ]
     },
     "execution_count": 16,
     "metadata": {},
     "output_type": "execute_result"
    }
   ],
   "source": [
    "type(list1[4])"
   ]
  },
  {
   "cell_type": "code",
   "execution_count": 17,
   "id": "b63810d2",
   "metadata": {},
   "outputs": [
    {
     "data": {
      "text/plain": [
       "int"
      ]
     },
     "execution_count": 17,
     "metadata": {},
     "output_type": "execute_result"
    }
   ],
   "source": [
    "type(list1[0])"
   ]
  },
  {
   "cell_type": "code",
   "execution_count": 18,
   "id": "54f82721",
   "metadata": {},
   "outputs": [
    {
     "name": "stdout",
     "output_type": "stream",
     "text": [
      "[4, 5, 6.2, 2.6666666666666665, 0]\n"
     ]
    }
   ],
   "source": [
    "list1[4] = int(list1[4])\n",
    "print(list1)"
   ]
  },
  {
   "cell_type": "code",
   "execution_count": 20,
   "id": "309a1009",
   "metadata": {},
   "outputs": [
    {
     "data": {
      "text/plain": [
       "[4, 5, 6.2, 2.6666666666666665, 0, 'Hi', 'Hi']"
      ]
     },
     "execution_count": 20,
     "metadata": {},
     "output_type": "execute_result"
    }
   ],
   "source": [
    "list1.append(\"Hi\")\n",
    "list1"
   ]
  },
  {
   "cell_type": "code",
   "execution_count": 21,
   "id": "b6014eeb",
   "metadata": {},
   "outputs": [],
   "source": [
    "tuplee = (1, 2, 3, 4)"
   ]
  },
  {
   "cell_type": "code",
   "execution_count": 22,
   "id": "f3eb5e44",
   "metadata": {
    "scrolled": true
   },
   "outputs": [
    {
     "ename": "AttributeError",
     "evalue": "'tuple' object has no attribute 'append'",
     "output_type": "error",
     "traceback": [
      "\u001b[1;31m---------------------------------------------------------------------------\u001b[0m",
      "\u001b[1;31mAttributeError\u001b[0m                            Traceback (most recent call last)",
      "\u001b[1;32m~\\AppData\\Local\\Temp\\ipykernel_9168\\2898649463.py\u001b[0m in \u001b[0;36m<module>\u001b[1;34m\u001b[0m\n\u001b[1;32m----> 1\u001b[1;33m \u001b[0mtuplee\u001b[0m\u001b[1;33m.\u001b[0m\u001b[0mappend\u001b[0m\u001b[1;33m(\u001b[0m\u001b[1;34m\"hi\"\u001b[0m\u001b[1;33m)\u001b[0m\u001b[1;33m\u001b[0m\u001b[1;33m\u001b[0m\u001b[0m\n\u001b[0m",
      "\u001b[1;31mAttributeError\u001b[0m: 'tuple' object has no attribute 'append'"
     ]
    }
   ],
   "source": [
    "tuplee.append(\"hi\")"
   ]
  },
  {
   "cell_type": "code",
   "execution_count": 23,
   "id": "70cdc066",
   "metadata": {},
   "outputs": [
    {
     "data": {
      "text/plain": [
       "['4', 5, 6.2, 2.6666666666666665, 0, 'Hi', 'Hi']"
      ]
     },
     "execution_count": 23,
     "metadata": {},
     "output_type": "execute_result"
    }
   ],
   "source": [
    "list1[0] = str(list1[0])\n",
    "list1"
   ]
  },
  {
   "cell_type": "code",
   "execution_count": 24,
   "id": "090048a6",
   "metadata": {},
   "outputs": [
    {
     "data": {
      "text/plain": [
       "5.0"
      ]
     },
     "execution_count": 24,
     "metadata": {},
     "output_type": "execute_result"
    }
   ],
   "source": [
    "float(list1[1])"
   ]
  },
  {
   "cell_type": "code",
   "execution_count": 25,
   "id": "c12ffcc4",
   "metadata": {
    "scrolled": true
   },
   "outputs": [
    {
     "data": {
      "text/plain": [
       "['4', 5, 6.2, 2.6666666666666665, 0, 'Hi', 'Hi']"
      ]
     },
     "execution_count": 25,
     "metadata": {},
     "output_type": "execute_result"
    }
   ],
   "source": [
    "list1"
   ]
  },
  {
   "cell_type": "markdown",
   "id": "2281fbca",
   "metadata": {},
   "source": [
    "### min(), max(), sum()"
   ]
  },
  {
   "cell_type": "code",
   "execution_count": 26,
   "id": "e3d36315",
   "metadata": {},
   "outputs": [
    {
     "data": {
      "text/plain": [
       "4"
      ]
     },
     "execution_count": 26,
     "metadata": {},
     "output_type": "execute_result"
    }
   ],
   "source": [
    "min(4, 8, 9, 81)"
   ]
  },
  {
   "cell_type": "code",
   "execution_count": 27,
   "id": "f119f7e6",
   "metadata": {},
   "outputs": [
    {
     "data": {
      "text/plain": [
       "81"
      ]
     },
     "execution_count": 27,
     "metadata": {},
     "output_type": "execute_result"
    }
   ],
   "source": [
    "max(4, 8, 9, 81)"
   ]
  },
  {
   "cell_type": "code",
   "execution_count": 28,
   "id": "b53722c3",
   "metadata": {},
   "outputs": [],
   "source": [
    "a, b, c = 60, 70, 80"
   ]
  },
  {
   "cell_type": "code",
   "execution_count": 29,
   "id": "cf4f8d35",
   "metadata": {},
   "outputs": [
    {
     "name": "stdout",
     "output_type": "stream",
     "text": [
      "60 70 80\n"
     ]
    }
   ],
   "source": [
    "print(a, b, c)"
   ]
  },
  {
   "cell_type": "code",
   "execution_count": 30,
   "id": "fe7a4163",
   "metadata": {},
   "outputs": [
    {
     "name": "stdout",
     "output_type": "stream",
     "text": [
      "minimum is  60\n"
     ]
    }
   ],
   "source": [
    "print(\"minimum is \", min((a, b, c)))"
   ]
  },
  {
   "cell_type": "code",
   "execution_count": 31,
   "id": "60f2bc26",
   "metadata": {},
   "outputs": [
    {
     "name": "stdout",
     "output_type": "stream",
     "text": [
      "max is  80\n"
     ]
    }
   ],
   "source": [
    "print(\"max is \", max((a, b, c)))"
   ]
  },
  {
   "cell_type": "code",
   "execution_count": 32,
   "id": "5470063f",
   "metadata": {},
   "outputs": [
    {
     "ename": "TypeError",
     "evalue": "sum() takes at most 2 arguments (4 given)",
     "output_type": "error",
     "traceback": [
      "\u001b[1;31m---------------------------------------------------------------------------\u001b[0m",
      "\u001b[1;31mTypeError\u001b[0m                                 Traceback (most recent call last)",
      "\u001b[1;32m~\\AppData\\Local\\Temp\\ipykernel_9168\\3617265083.py\u001b[0m in \u001b[0;36m<module>\u001b[1;34m\u001b[0m\n\u001b[1;32m----> 1\u001b[1;33m \u001b[0msum\u001b[0m\u001b[1;33m(\u001b[0m\u001b[1;36m4\u001b[0m\u001b[1;33m,\u001b[0m \u001b[1;36m8\u001b[0m\u001b[1;33m,\u001b[0m \u001b[1;36m9\u001b[0m\u001b[1;33m,\u001b[0m \u001b[1;36m81\u001b[0m\u001b[1;33m)\u001b[0m\u001b[1;33m\u001b[0m\u001b[1;33m\u001b[0m\u001b[0m\n\u001b[0m",
      "\u001b[1;31mTypeError\u001b[0m: sum() takes at most 2 arguments (4 given)"
     ]
    }
   ],
   "source": [
    "sum(4, 8, 9, 81)"
   ]
  },
  {
   "cell_type": "code",
   "execution_count": 33,
   "id": "ba44e0f8",
   "metadata": {},
   "outputs": [
    {
     "ename": "TypeError",
     "evalue": "sum() takes at most 2 arguments (3 given)",
     "output_type": "error",
     "traceback": [
      "\u001b[1;31m---------------------------------------------------------------------------\u001b[0m",
      "\u001b[1;31mTypeError\u001b[0m                                 Traceback (most recent call last)",
      "\u001b[1;32m~\\AppData\\Local\\Temp\\ipykernel_9168\\549291748.py\u001b[0m in \u001b[0;36m<module>\u001b[1;34m\u001b[0m\n\u001b[1;32m----> 1\u001b[1;33m \u001b[0msum\u001b[0m\u001b[1;33m(\u001b[0m\u001b[0ma\u001b[0m\u001b[1;33m,\u001b[0m \u001b[0mb\u001b[0m\u001b[1;33m,\u001b[0m \u001b[0mc\u001b[0m\u001b[1;33m)\u001b[0m\u001b[1;33m\u001b[0m\u001b[1;33m\u001b[0m\u001b[0m\n\u001b[0m",
      "\u001b[1;31mTypeError\u001b[0m: sum() takes at most 2 arguments (3 given)"
     ]
    }
   ],
   "source": [
    "sum(a, b, c)"
   ]
  },
  {
   "cell_type": "code",
   "execution_count": 34,
   "id": "d90cb10b",
   "metadata": {
    "scrolled": true
   },
   "outputs": [
    {
     "ename": "TypeError",
     "evalue": "'int' object is not iterable",
     "output_type": "error",
     "traceback": [
      "\u001b[1;31m---------------------------------------------------------------------------\u001b[0m",
      "\u001b[1;31mTypeError\u001b[0m                                 Traceback (most recent call last)",
      "\u001b[1;32m~\\AppData\\Local\\Temp\\ipykernel_9168\\3314981741.py\u001b[0m in \u001b[0;36m<module>\u001b[1;34m\u001b[0m\n\u001b[1;32m----> 1\u001b[1;33m \u001b[0msum\u001b[0m\u001b[1;33m(\u001b[0m\u001b[0ma\u001b[0m\u001b[1;33m,\u001b[0m \u001b[0mb\u001b[0m\u001b[1;33m)\u001b[0m\u001b[1;33m\u001b[0m\u001b[1;33m\u001b[0m\u001b[0m\n\u001b[0m",
      "\u001b[1;31mTypeError\u001b[0m: 'int' object is not iterable"
     ]
    }
   ],
   "source": [
    "sum(a, b)"
   ]
  },
  {
   "cell_type": "code",
   "execution_count": 35,
   "id": "d1149e5a",
   "metadata": {},
   "outputs": [
    {
     "data": {
      "text/plain": [
       "10"
      ]
     },
     "execution_count": 35,
     "metadata": {},
     "output_type": "execute_result"
    }
   ],
   "source": [
    "sum((1, 2, 3, 4))"
   ]
  },
  {
   "cell_type": "code",
   "execution_count": 36,
   "id": "43f18b12",
   "metadata": {},
   "outputs": [
    {
     "data": {
      "text/plain": [
       "15"
      ]
     },
     "execution_count": 36,
     "metadata": {},
     "output_type": "execute_result"
    }
   ],
   "source": [
    "sum((1, 2, 3, 4), 5)"
   ]
  },
  {
   "cell_type": "markdown",
   "id": "b8d0de57",
   "metadata": {},
   "source": [
    "### Lists methods"
   ]
  },
  {
   "cell_type": "markdown",
   "id": "081108cc",
   "metadata": {},
   "source": [
    "'append',\n",
    " 'clear',\n",
    " 'copy',\n",
    " 'count',\n",
    " 'extend',\n",
    " 'index',\n",
    " 'insert',\n",
    " 'pop',\n",
    " 'remove',\n",
    " 'reverse',\n",
    " 'sort']"
   ]
  },
  {
   "cell_type": "code",
   "execution_count": 41,
   "id": "594e9d9e",
   "metadata": {},
   "outputs": [],
   "source": [
    "courses = [\"Macroeconomics\", \"Microeconomics\", \"Econometrics\", \"Banking\"]"
   ]
  },
  {
   "cell_type": "code",
   "execution_count": 42,
   "id": "a00cf015",
   "metadata": {},
   "outputs": [
    {
     "data": {
      "text/plain": [
       "['Macroeconomics', 'Microeconomics', 'Econometrics']"
      ]
     },
     "execution_count": 42,
     "metadata": {},
     "output_type": "execute_result"
    }
   ],
   "source": [
    "courses.remove(\"Banking\") #applyig methods depend on the type of the data\n",
    "courses"
   ]
  },
  {
   "cell_type": "code",
   "execution_count": 38,
   "id": "fe5fc843",
   "metadata": {},
   "outputs": [],
   "source": [
    "# dir(list)"
   ]
  },
  {
   "cell_type": "code",
   "execution_count": 44,
   "id": "1f467ee5",
   "metadata": {},
   "outputs": [],
   "source": [
    "# dir(tuple)"
   ]
  },
  {
   "cell_type": "code",
   "execution_count": 45,
   "id": "deaa361a",
   "metadata": {},
   "outputs": [
    {
     "data": {
      "text/plain": [
       "0"
      ]
     },
     "execution_count": 45,
     "metadata": {},
     "output_type": "execute_result"
    }
   ],
   "source": [
    "a = (1, 2, 3, 4) #'count','index'\n",
    "a.index(1)"
   ]
  },
  {
   "cell_type": "code",
   "execution_count": 46,
   "id": "0a75285c",
   "metadata": {},
   "outputs": [
    {
     "data": {
      "text/plain": [
       "1"
      ]
     },
     "execution_count": 46,
     "metadata": {},
     "output_type": "execute_result"
    }
   ],
   "source": [
    "a.count(4)"
   ]
  },
  {
   "cell_type": "code",
   "execution_count": 50,
   "id": "4d67031c",
   "metadata": {},
   "outputs": [],
   "source": [
    "# dir(str)"
   ]
  },
  {
   "cell_type": "markdown",
   "id": "ae050d37",
   "metadata": {},
   "source": [
    "## control flow structures"
   ]
  },
  {
   "cell_type": "markdown",
   "id": "86afcdc6",
   "metadata": {},
   "source": [
    "### For loops"
   ]
  },
  {
   "cell_type": "code",
   "execution_count": 51,
   "id": "a778948b",
   "metadata": {},
   "outputs": [
    {
     "name": "stdout",
     "output_type": "stream",
     "text": [
      "Macroeconomics\n",
      "Microeconomics\n",
      "Econometrics\n",
      "Banking\n"
     ]
    }
   ],
   "source": [
    "courses = [\"Macroeconomics\", \"Microeconomics\", \"Econometrics\", \"Banking\"]\n",
    "\n",
    "for course in courses:\n",
    "    print(course)"
   ]
  },
  {
   "cell_type": "code",
   "execution_count": 52,
   "id": "f55c1862",
   "metadata": {},
   "outputs": [
    {
     "name": "stdout",
     "output_type": "stream",
     "text": [
      "Macroeconomics\n",
      "Microeconomics\n",
      "Econometrics\n",
      "Banking\n"
     ]
    }
   ],
   "source": [
    "for i in courses: \n",
    "    print(i)"
   ]
  },
  {
   "cell_type": "code",
   "execution_count": 53,
   "id": "e693b241",
   "metadata": {},
   "outputs": [
    {
     "name": "stdout",
     "output_type": "stream",
     "text": [
      "Macroeconomics\n",
      "Microeconomics\n",
      "Econometrics\n",
      "Banking\n"
     ]
    }
   ],
   "source": [
    "for آیتم in courses:\n",
    "    print(آیتم)"
   ]
  },
  {
   "cell_type": "code",
   "execution_count": 54,
   "id": "a476d41b",
   "metadata": {},
   "outputs": [
    {
     "name": "stdout",
     "output_type": "stream",
     "text": [
      "MACROECONOMICS\n",
      "MICROECONOMICS\n",
      "ECONOMETRICS\n",
      "BANKING\n"
     ]
    }
   ],
   "source": [
    "for i in courses: # i is a local variable, it is not a global varial\n",
    "    print(i.upper())"
   ]
  },
  {
   "cell_type": "code",
   "execution_count": 55,
   "id": "001dc9b9",
   "metadata": {
    "scrolled": true
   },
   "outputs": [
    {
     "name": "stdout",
     "output_type": "stream",
     "text": [
      "1th lesson: Macroeconomics\n",
      "2th lesson: Microeconomics\n",
      "3th lesson: Econometrics\n",
      "4th lesson: Banking\n"
     ]
    }
   ],
   "source": [
    "courses = [\"Macroeconomics\", \"Microeconomics\", \"Econometrics\", \"Banking\"]\n",
    "index = 1\n",
    "\n",
    "for lessons in courses:\n",
    "    print(f\"{index}th lesson: {lessons}\")\n",
    "    index += 1"
   ]
  },
  {
   "cell_type": "code",
   "execution_count": 57,
   "id": "241b575c",
   "metadata": {
    "scrolled": true
   },
   "outputs": [
    {
     "name": "stdout",
     "output_type": "stream",
     "text": [
      "0 Macroeconomics\n",
      "1 Microeconomics\n",
      "2 Econometrics\n",
      "3 Banking\n"
     ]
    }
   ],
   "source": [
    "courses = [\"Macroeconomics\", \"Microeconomics\", \"Econometrics\", \"Banking\"]\n",
    "index = 0\n",
    "\n",
    "for lessons in courses:\n",
    "    print(index, lessons)\n",
    "    index = index + 1"
   ]
  },
  {
   "cell_type": "code",
   "execution_count": 63,
   "id": "1469142b",
   "metadata": {},
   "outputs": [
    {
     "name": "stdout",
     "output_type": "stream",
     "text": [
      "1st lesson: Macroeconomics\n",
      "2nd lesson: Microeconomics\n",
      "3rd lesson: Econometrics\n",
      "4th lesson: Banking\n"
     ]
    }
   ],
   "source": [
    "courses = [\"Macroeconomics\", \"Microeconomics\", \"Econometrics\", \"Banking\"]\n",
    "index = 1\n",
    "\n",
    "for lessons in courses:\n",
    "    if index == 2:\n",
    "        print(f\"{index}nd lesson: {lessons}\")\n",
    "    elif index == 3:\n",
    "        print(f\"{index}rd lesson: {lessons}\")\n",
    "    elif index == 1:\n",
    "        print(f\"{index}st lesson: {lessons}\")\n",
    "    else:\n",
    "        print(f\"{index}th lesson: {lessons}\")\n",
    "    index += 1"
   ]
  },
  {
   "cell_type": "code",
   "execution_count": 64,
   "id": "d28d1c76",
   "metadata": {},
   "outputs": [
    {
     "data": {
      "text/plain": [
       "65"
      ]
     },
     "execution_count": 64,
     "metadata": {},
     "output_type": "execute_result"
    }
   ],
   "source": [
    "number = 65\n",
    "number"
   ]
  },
  {
   "cell_type": "code",
   "execution_count": 65,
   "id": "91f0fd46",
   "metadata": {},
   "outputs": [
    {
     "data": {
      "text/plain": [
       "66"
      ]
     },
     "execution_count": 65,
     "metadata": {},
     "output_type": "execute_result"
    }
   ],
   "source": [
    "number + 1"
   ]
  },
  {
   "cell_type": "code",
   "execution_count": 66,
   "id": "ae5fed72",
   "metadata": {},
   "outputs": [
    {
     "data": {
      "text/plain": [
       "65"
      ]
     },
     "execution_count": 66,
     "metadata": {},
     "output_type": "execute_result"
    }
   ],
   "source": [
    "number"
   ]
  },
  {
   "cell_type": "code",
   "execution_count": 67,
   "id": "ed017058",
   "metadata": {},
   "outputs": [
    {
     "data": {
      "text/plain": [
       "66"
      ]
     },
     "execution_count": 67,
     "metadata": {},
     "output_type": "execute_result"
    }
   ],
   "source": [
    "number = number + 1\n",
    "number"
   ]
  },
  {
   "cell_type": "code",
   "execution_count": 71,
   "id": "e705f468",
   "metadata": {},
   "outputs": [
    {
     "data": {
      "text/plain": [
       "70"
      ]
     },
     "execution_count": 71,
     "metadata": {},
     "output_type": "execute_result"
    }
   ],
   "source": [
    "number += 1\n",
    "number"
   ]
  },
  {
   "cell_type": "code",
   "execution_count": 72,
   "id": "99c2f13c",
   "metadata": {},
   "outputs": [
    {
     "name": "stdout",
     "output_type": "stream",
     "text": [
      "140\n"
     ]
    }
   ],
   "source": [
    "number *= 2\n",
    "print(number)"
   ]
  },
  {
   "cell_type": "code",
   "execution_count": 79,
   "id": "2620e33b",
   "metadata": {},
   "outputs": [],
   "source": [
    "inflation_rate = [3.5, 3.4, 3.3, 3, 2.9, 2.5, 2.4] #https://tradingeconomics.com/united-states/inflation-cpi"
   ]
  },
  {
   "cell_type": "code",
   "execution_count": 80,
   "id": "67a6aafa",
   "metadata": {},
   "outputs": [
    {
     "name": "stdout",
     "output_type": "stream",
     "text": [
      "3.5\n",
      "3.4\n",
      "3.3\n",
      "3\n",
      "2.9\n",
      "2.5\n",
      "2.4\n"
     ]
    }
   ],
   "source": [
    "for rate in inflation_rate:\n",
    "    print(rate)"
   ]
  },
  {
   "cell_type": "code",
   "execution_count": 81,
   "id": "2f60b629",
   "metadata": {},
   "outputs": [
    {
     "name": "stdout",
     "output_type": "stream",
     "text": [
      "350.0\n",
      "340.0\n",
      "330.0\n",
      "300\n",
      "290.0\n",
      "250.0\n",
      "240.0\n"
     ]
    }
   ],
   "source": [
    "for rate in inflation_rate:\n",
    "    rate *= 100\n",
    "    print(rate)"
   ]
  },
  {
   "cell_type": "code",
   "execution_count": 78,
   "id": "a0666959",
   "metadata": {},
   "outputs": [],
   "source": [
    "inflation_rate = [3.5, 3.4, 3.3, 3, 2.9, 2.5, 2.4]\n",
    "months = [\"March\", \"April\", \"May\", \"June\", \"July\", \"August\", \"September\"]"
   ]
  },
  {
   "cell_type": "markdown",
   "id": "7cd652ed",
   "metadata": {},
   "source": [
    "## zip()"
   ]
  },
  {
   "cell_type": "code",
   "execution_count": 84,
   "id": "f27e8505",
   "metadata": {},
   "outputs": [
    {
     "name": "stdout",
     "output_type": "stream",
     "text": [
      "March: 3.5\n",
      "April: 3.4\n",
      "May: 3.3\n",
      "June: 3\n",
      "July: 2.9\n",
      "August: 2.5\n",
      "September: 2.4\n"
     ]
    }
   ],
   "source": [
    "for rate, month in zip(inflation_rate, months):\n",
    "    print(f\"{month}: {rate}\")"
   ]
  },
  {
   "cell_type": "markdown",
   "id": "2ad3d209",
   "metadata": {},
   "source": [
    "## F-string"
   ]
  },
  {
   "cell_type": "code",
   "execution_count": 87,
   "id": "00a8daaf",
   "metadata": {},
   "outputs": [
    {
     "name": "stdout",
     "output_type": "stream",
     "text": [
      " a: 100, b: 80\n",
      " a: 90, b: 70\n",
      " a: 110, b: 90\n"
     ]
    }
   ],
   "source": [
    "pairs = [(100, 80), (90, 70), (110, 90)]\n",
    "\n",
    "for a, b in pairs:\n",
    "    print(f\" a: {a}, b: {b}\")\n"
   ]
  },
  {
   "cell_type": "markdown",
   "id": "dc9f1cf4",
   "metadata": {},
   "source": [
    "### Format method"
   ]
  },
  {
   "cell_type": "code",
   "execution_count": 88,
   "id": "d9728933",
   "metadata": {},
   "outputs": [
    {
     "name": "stdout",
     "output_type": "stream",
     "text": [
      "a: 100, b: 80\n",
      "a: 90, b: 70\n",
      "a: 110, b: 90\n"
     ]
    }
   ],
   "source": [
    "pairs = [(100, 80), (90, 70), (110, 90)]\n",
    "\n",
    "for a, b in pairs:\n",
    "    print(\"a: {}, b: {}\".format(a, b))\n"
   ]
  },
  {
   "cell_type": "markdown",
   "id": "da045fb0",
   "metadata": {},
   "source": [
    "### String concatenation"
   ]
  },
  {
   "cell_type": "code",
   "execution_count": 89,
   "id": "f2c61c1f",
   "metadata": {},
   "outputs": [
    {
     "name": "stdout",
     "output_type": "stream",
     "text": [
      "a:100, b: 80\n",
      "a:90, b: 70\n",
      "a:110, b: 90\n"
     ]
    }
   ],
   "source": [
    "pairs = [(100, 80), (90, 70), (110, 90)]\n",
    "\n",
    "for a, b in pairs:\n",
    "    print(\"a:\" + str(a) + \", b: \" + str(b))"
   ]
  },
  {
   "cell_type": "markdown",
   "id": "24dc557e",
   "metadata": {},
   "source": [
    "## Enumerate Function"
   ]
  },
  {
   "cell_type": "code",
   "execution_count": 94,
   "id": "0fb81811",
   "metadata": {},
   "outputs": [
    {
     "name": "stdout",
     "output_type": "stream",
     "text": [
      "0 Macroeconomics\n",
      "1 Microeconomics\n",
      "2 Econometrics\n",
      "3 Banking\n"
     ]
    }
   ],
   "source": [
    "courses = [\"Macroeconomics\", \"Microeconomics\", \"Econometrics\", \"Banking\"]\n",
    "\n",
    "for index, item in enumerate(courses):\n",
    "    print(index, item)"
   ]
  },
  {
   "cell_type": "code",
   "execution_count": 96,
   "id": "1b0a935a",
   "metadata": {},
   "outputs": [
    {
     "name": "stdout",
     "output_type": "stream",
     "text": [
      "Pair 1: (100, 80), color: red\n",
      "Pair 2: (90, 70), color: green\n",
      "Pair 3: (110, 90), color: blue\n"
     ]
    }
   ],
   "source": [
    "scenarios = [(100, 80), (90, 70), (110, 90)]\n",
    "colors = ['red', 'green', 'blue']\n",
    "\n",
    "for index, pair in enumerate(scenarios):\n",
    "    print(f\"Pair {index + 1}: {pair}, color: {colors[index]}\")"
   ]
  },
  {
   "cell_type": "markdown",
   "id": "028a1e6f",
   "metadata": {},
   "source": [
    "# Clarifying last session"
   ]
  },
  {
   "cell_type": "code",
   "execution_count": 97,
   "id": "b3292480",
   "metadata": {},
   "outputs": [
    {
     "data": {
      "image/png": "[encoded data removed]",
      "text/plain": [
       "<Figure size 1000x600 with 1 Axes>"
      ]
     },
     "metadata": {},
     "output_type": "display_data"
    }
   ],
   "source": [
    "import numpy as np\n",
    "import matplotlib.pyplot as plt\n",
    "max_A = 100\n",
    "max_B = 80\n",
    "\n",
    "#function\n",
    "def calculate_ppc(max_A, max_B):\n",
    "    A = np.linspace(0, max_A, 100)\n",
    "    B = (max_B * (max_A - A)) / max_A\n",
    "    return A, B\n",
    "\n",
    "# three scenarios\n",
    "scenarios = [(100, 80), (90, 70), (110, 90)]\n",
    "colors = ['red', 'green', 'blue']\n",
    "\n",
    "plt.figure(figsize=(10, 6))\n",
    "\n",
    "for i, (max_A, max_B) in enumerate(scenarios):\n",
    "    A, B = calculate_ppc(max_A, max_B)\n",
    "    plt.plot(A, B, label = f\"PPC {i + 1}\", color = colors[i])\n",
    "    plt.fill_between(A, B, color = colors[i] , alpha = 0.3)\n",
    "    \n",
    "plt.title(\"Production Possibility Curves\")\n",
    "plt.xlabel(\"Good A Production\")\n",
    "plt.ylabel(\"Good B Production\")\n",
    "plt.xlim(0, max(max_A, max_A in scenarios))\n",
    "plt.ylim(0, max(max_B, max_B in scenarios))\n",
    "plt.grid(True)\n",
    "plt.legend()\n",
    "plt.show()"
   ]
  },
  {
   "cell_type": "code",
   "execution_count": null,
   "id": "5350350a",
   "metadata": {},
   "outputs": [],
   "source": []
  }
 ],
 "metadata": {
  "kernelspec": {
   "display_name": "Python 3 (ipykernel)",
   "language": "python",
   "name": "python3"
  },
  "language_info": {
   "codemirror_mode": {
    "name": "ipython",
    "version": 3
   },
   "file_extension": ".py",
   "mimetype": "text/x-python",
   "name": "python",
   "nbconvert_exporter": "python",
   "pygments_lexer": "ipython3",
   "version": "3.9.13"
  }
 },
 "nbformat": 4,
 "nbformat_minor": 5
}
