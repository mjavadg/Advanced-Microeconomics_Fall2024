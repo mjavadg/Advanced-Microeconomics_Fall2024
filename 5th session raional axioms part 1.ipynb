{
 "cells": [
  {
   "cell_type": "markdown",
   "id": "dcaf853f",
   "metadata": {},
   "source": [
    "# 5th session\n",
    "## Axioms of Rationality with Boolean Statements"
   ]
  },
  {
   "cell_type": "markdown",
   "id": "19c00641",
   "metadata": {},
   "source": [
    "##  Boolean Statements"
   ]
  },
  {
   "cell_type": "code",
   "execution_count": 9,
   "id": "9401b1a5",
   "metadata": {},
   "outputs": [
    {
     "data": {
      "text/plain": [
       "True"
      ]
     },
     "execution_count": 9,
     "metadata": {},
     "output_type": "execute_result"
    }
   ],
   "source": [
    "1 == 1 # ==  shows the truth"
   ]
  },
  {
   "cell_type": "code",
   "execution_count": 7,
   "id": "e11257a6",
   "metadata": {},
   "outputs": [
    {
     "data": {
      "text/plain": [
       "False"
      ]
     },
     "execution_count": 7,
     "metadata": {},
     "output_type": "execute_result"
    }
   ],
   "source": [
    "\"Hi\" == \"hi\""
   ]
  },
  {
   "cell_type": "code",
   "execution_count": 8,
   "id": "2a6e45a6",
   "metadata": {},
   "outputs": [
    {
     "data": {
      "text/plain": [
       "False"
      ]
     },
     "execution_count": 8,
     "metadata": {},
     "output_type": "execute_result"
    }
   ],
   "source": [
    "[1, 2, 3] == [1, 2, 4]"
   ]
  },
  {
   "cell_type": "code",
   "execution_count": 13,
   "id": "79efd97e",
   "metadata": {},
   "outputs": [
    {
     "data": {
      "text/plain": [
       "True"
      ]
     },
     "execution_count": 13,
     "metadata": {},
     "output_type": "execute_result"
    }
   ],
   "source": [
    "(\"a\", \"b\", \"c\") != (1, 2, 3) #shows that the two statements are not equal"
   ]
  },
  {
   "cell_type": "code",
   "execution_count": 14,
   "id": "9a91787a",
   "metadata": {},
   "outputs": [
    {
     "data": {
      "text/plain": [
       "True"
      ]
     },
     "execution_count": 14,
     "metadata": {},
     "output_type": "execute_result"
    }
   ],
   "source": [
    "5 > 3 #greater than"
   ]
  },
  {
   "cell_type": "code",
   "execution_count": 15,
   "id": "5edcac10",
   "metadata": {},
   "outputs": [
    {
     "data": {
      "text/plain": [
       "False"
      ]
     },
     "execution_count": 15,
     "metadata": {},
     "output_type": "execute_result"
    }
   ],
   "source": [
    "5 < 3 #less than"
   ]
  },
  {
   "cell_type": "code",
   "execution_count": 16,
   "id": "77b064fd",
   "metadata": {},
   "outputs": [
    {
     "data": {
      "text/plain": [
       "True"
      ]
     },
     "execution_count": 16,
     "metadata": {},
     "output_type": "execute_result"
    }
   ],
   "source": [
    "4 <= 5 #four is less than or equal to five"
   ]
  },
  {
   "cell_type": "code",
   "execution_count": 18,
   "id": "96835de8",
   "metadata": {},
   "outputs": [
    {
     "data": {
      "text/plain": [
       "False"
      ]
     },
     "execution_count": 18,
     "metadata": {},
     "output_type": "execute_result"
    }
   ],
   "source": [
    "4 >= 5 #four is greater than or equal to five"
   ]
  },
  {
   "cell_type": "code",
   "execution_count": 19,
   "id": "152d5029",
   "metadata": {},
   "outputs": [],
   "source": [
    "a = (1, 2, 3)\n",
    "b = (2, 4, 5)\n",
    "a_set = set(a)\n",
    "b_set = set(b)"
   ]
  },
  {
   "cell_type": "code",
   "execution_count": 22,
   "id": "2b9f3b59",
   "metadata": {},
   "outputs": [
    {
     "name": "stdout",
     "output_type": "stream",
     "text": [
      "True\n",
      "True\n"
     ]
    }
   ],
   "source": [
    "print(2 in a_set)\n",
    "print(4 in b_set)"
   ]
  },
  {
   "cell_type": "code",
   "execution_count": 24,
   "id": "eb87afaa",
   "metadata": {},
   "outputs": [
    {
     "data": {
      "text/plain": [
       "True"
      ]
     },
     "execution_count": 24,
     "metadata": {},
     "output_type": "execute_result"
    }
   ],
   "source": [
    "1 in a_set or 1 in b_set"
   ]
  },
  {
   "cell_type": "code",
   "execution_count": 25,
   "id": "72e7322f",
   "metadata": {},
   "outputs": [
    {
     "data": {
      "text/plain": [
       "False"
      ]
     },
     "execution_count": 25,
     "metadata": {},
     "output_type": "execute_result"
    }
   ],
   "source": [
    "1 in a_set and 1 in b_set"
   ]
  },
  {
   "cell_type": "code",
   "execution_count": 26,
   "id": "53d9b631",
   "metadata": {},
   "outputs": [
    {
     "data": {
      "text/plain": [
       "False"
      ]
     },
     "execution_count": 26,
     "metadata": {},
     "output_type": "execute_result"
    }
   ],
   "source": [
    "not 1 in a_set or 1 in b_set # not 1"
   ]
  },
  {
   "cell_type": "code",
   "execution_count": 96,
   "id": "718e8def",
   "metadata": {
    "scrolled": true
   },
   "outputs": [
    {
     "data": {
      "text/plain": [
       "False"
      ]
     },
     "execution_count": 96,
     "metadata": {},
     "output_type": "execute_result"
    }
   ],
   "source": [
    "not (1 in a_set and 2 in b_set) #not the whole expression"
   ]
  },
  {
   "cell_type": "code",
   "execution_count": 32,
   "id": "1b4defbf",
   "metadata": {},
   "outputs": [
    {
     "data": {
      "text/plain": [
       "bool"
      ]
     },
     "execution_count": 32,
     "metadata": {},
     "output_type": "execute_result"
    }
   ],
   "source": [
    "type(not 1 in a_set and 2 in b_set)"
   ]
  },
  {
   "cell_type": "code",
   "execution_count": 33,
   "id": "7ba559ea",
   "metadata": {},
   "outputs": [
    {
     "name": "stdout",
     "output_type": "stream",
     "text": [
      "False\n"
     ]
    },
    {
     "data": {
      "text/plain": [
       "NoneType"
      ]
     },
     "execution_count": 33,
     "metadata": {},
     "output_type": "execute_result"
    }
   ],
   "source": [
    "type(print(not 1 in a_set and 2 in b_set))"
   ]
  },
  {
   "cell_type": "markdown",
   "id": "3e1c5547",
   "metadata": {},
   "source": [
    "## Nonetype"
   ]
  },
  {
   "cell_type": "code",
   "execution_count": 36,
   "id": "75963753",
   "metadata": {},
   "outputs": [
    {
     "name": "stdout",
     "output_type": "stream",
     "text": [
      "False\n",
      "True\n",
      "True\n"
     ]
    }
   ],
   "source": [
    "z = None #Global variable\n",
    "print(z == 5)\n",
    "# print(None > 5)\n",
    "print(not z == 5)\n",
    "print(z != 5)"
   ]
  },
  {
   "cell_type": "code",
   "execution_count": 38,
   "id": "8bcd58a3",
   "metadata": {},
   "outputs": [
    {
     "name": "stdout",
     "output_type": "stream",
     "text": [
      "4\n"
     ]
    }
   ],
   "source": [
    "def square(x):\n",
    "    print(x * x)\n",
    "    \n",
    "square(2)"
   ]
  },
  {
   "cell_type": "code",
   "execution_count": 39,
   "id": "dfdffa4a",
   "metadata": {
    "scrolled": false
   },
   "outputs": [
    {
     "name": "stdout",
     "output_type": "stream",
     "text": [
      "4\n"
     ]
    },
    {
     "ename": "TypeError",
     "evalue": "unsupported operand type(s) for *: 'NoneType' and 'int'",
     "output_type": "error",
     "traceback": [
      "\u001b[1;31m---------------------------------------------------------------------------\u001b[0m",
      "\u001b[1;31mTypeError\u001b[0m                                 Traceback (most recent call last)",
      "\u001b[1;32m~\\AppData\\Local\\Temp\\ipykernel_9848\\864444283.py\u001b[0m in \u001b[0;36m<module>\u001b[1;34m\u001b[0m\n\u001b[1;32m----> 1\u001b[1;33m \u001b[0msquare\u001b[0m\u001b[1;33m(\u001b[0m\u001b[1;36m2\u001b[0m\u001b[1;33m)\u001b[0m \u001b[1;33m*\u001b[0m \u001b[1;36m5\u001b[0m\u001b[1;33m\u001b[0m\u001b[1;33m\u001b[0m\u001b[0m\n\u001b[0m",
      "\u001b[1;31mTypeError\u001b[0m: unsupported operand type(s) for *: 'NoneType' and 'int'"
     ]
    }
   ],
   "source": [
    "square(2) * 5 #nonetype and will produce error"
   ]
  },
  {
   "cell_type": "code",
   "execution_count": 98,
   "id": "36737c35",
   "metadata": {},
   "outputs": [
    {
     "data": {
      "text/plain": [
       "4"
      ]
     },
     "execution_count": 98,
     "metadata": {},
     "output_type": "execute_result"
    }
   ],
   "source": [
    "def square(x):\n",
    "    return(x * x)\n",
    "    \n",
    "square(2)"
   ]
  },
  {
   "cell_type": "code",
   "execution_count": 99,
   "id": "d9b7e1e2",
   "metadata": {},
   "outputs": [
    {
     "data": {
      "text/plain": [
       "20"
      ]
     },
     "execution_count": 99,
     "metadata": {},
     "output_type": "execute_result"
    }
   ],
   "source": [
    "square(2) * 5 #no nonetype and between integers mathematical operation are perfomable"
   ]
  },
  {
   "cell_type": "code",
   "execution_count": 44,
   "id": "46a0d0b2",
   "metadata": {},
   "outputs": [
    {
     "data": {
      "text/plain": [
       "25"
      ]
     },
     "execution_count": 44,
     "metadata": {},
     "output_type": "execute_result"
    }
   ],
   "source": [
    "def square(x):\n",
    "    return(x * x) #this return stores the value\n",
    "    return (x + x) #this return doesn't store the value\n",
    "\n",
    "square(5)"
   ]
  },
  {
   "cell_type": "code",
   "execution_count": 45,
   "id": "eddfeba3",
   "metadata": {},
   "outputs": [
    {
     "data": {
      "text/plain": [
       "(25, 10)"
      ]
     },
     "execution_count": 45,
     "metadata": {},
     "output_type": "execute_result"
    }
   ],
   "source": [
    "def square(x):\n",
    "    z = (x * x) #local \n",
    "    y = (x + x) \n",
    "    return (z, y)\n",
    "\n",
    "square(5)"
   ]
  },
  {
   "cell_type": "code",
   "execution_count": 62,
   "id": "beb1be34",
   "metadata": {},
   "outputs": [
    {
     "data": {
      "text/plain": [
       "(25, 10)"
      ]
     },
     "execution_count": 62,
     "metadata": {},
     "output_type": "execute_result"
    }
   ],
   "source": [
    "def square(x):\n",
    "    z = (x * x) #local VARIABLE\n",
    "    y = (x + x) \n",
    "    print(f'{z} is the square of x, {y} is the summation of x')\n",
    "    return (z, y)\n",
    "\n",
    "square(5)"
   ]
  },
  {
   "cell_type": "code",
   "execution_count": 46,
   "id": "d80876d9",
   "metadata": {},
   "outputs": [
    {
     "name": "stdout",
     "output_type": "stream",
     "text": [
      "None\n"
     ]
    }
   ],
   "source": [
    "print(z) #the global variable"
   ]
  },
  {
   "cell_type": "markdown",
   "id": "c372331f",
   "metadata": {},
   "source": [
    "## The usage of is and is not"
   ]
  },
  {
   "cell_type": "code",
   "execution_count": 51,
   "id": "346690fa",
   "metadata": {},
   "outputs": [
    {
     "name": "stdout",
     "output_type": "stream",
     "text": [
      "False\n",
      "True\n"
     ]
    }
   ],
   "source": [
    "print(z == 4)\n",
    "print(z != 4) #As if z which is nonetype is integer and has another value than 4"
   ]
  },
  {
   "cell_type": "code",
   "execution_count": 54,
   "id": "ddd20e51",
   "metadata": {},
   "outputs": [
    {
     "name": "stdout",
     "output_type": "stream",
     "text": [
      "False\n",
      "True\n"
     ]
    }
   ],
   "source": [
    "h = 4\n",
    "print(z is h)\n",
    "print(z is not h)"
   ]
  },
  {
   "cell_type": "code",
   "execution_count": 56,
   "id": "a1a54409",
   "metadata": {},
   "outputs": [],
   "source": [
    "# dir(set)"
   ]
  },
  {
   "cell_type": "markdown",
   "id": "7014d069",
   "metadata": {},
   "source": [
    "### set methods:\n",
    " 'add',\n",
    " 'clear',\n",
    " 'copy',\n",
    " 'difference',\n",
    " 'difference_update',\n",
    " 'discard',\n",
    " 'intersection',\n",
    " 'intersection_update',\n",
    " 'isdisjoint',\n",
    " 'issubset',\n",
    " 'issuperset',\n",
    " 'pop',\n",
    " 'remove',\n",
    " 'symmetric_difference',\n",
    " 'symmetric_difference_update',\n",
    " 'union',\n",
    " 'update'"
   ]
  },
  {
   "cell_type": "code",
   "execution_count": 57,
   "id": "d64f2876",
   "metadata": {},
   "outputs": [
    {
     "data": {
      "text/plain": [
       "{2}"
      ]
     },
     "execution_count": 57,
     "metadata": {},
     "output_type": "execute_result"
    }
   ],
   "source": [
    "a_set.intersection(b_set)"
   ]
  },
  {
   "cell_type": "code",
   "execution_count": 58,
   "id": "8bc8dd6c",
   "metadata": {},
   "outputs": [
    {
     "data": {
      "text/plain": [
       "{1, 2, 3, 4, 5}"
      ]
     },
     "execution_count": 58,
     "metadata": {},
     "output_type": "execute_result"
    }
   ],
   "source": [
    "a_set.union(b_set)"
   ]
  },
  {
   "cell_type": "code",
   "execution_count": 63,
   "id": "4ddb21aa",
   "metadata": {},
   "outputs": [
    {
     "data": {
      "text/plain": [
       "2"
      ]
     },
     "execution_count": 63,
     "metadata": {},
     "output_type": "execute_result"
    }
   ],
   "source": [
    "True + 1"
   ]
  },
  {
   "cell_type": "code",
   "execution_count": 64,
   "id": "3f758e4e",
   "metadata": {},
   "outputs": [
    {
     "data": {
      "text/plain": [
       "6"
      ]
     },
     "execution_count": 64,
     "metadata": {},
     "output_type": "execute_result"
    }
   ],
   "source": [
    "False + 6"
   ]
  },
  {
   "cell_type": "markdown",
   "id": "9b706189",
   "metadata": {},
   "source": [
    "##  Axioms of Rationality"
   ]
  },
  {
   "cell_type": "markdown",
   "id": "e8dda2de",
   "metadata": {},
   "source": [
    "### Completeness:\n",
    "- Means that for any two bundles of goods, a consumer can either prefer one over the other or be indifferent between them."
   ]
  },
  {
   "cell_type": "code",
   "execution_count": 65,
   "id": "a06cc442",
   "metadata": {},
   "outputs": [],
   "source": [
    "bundle1 = (2, 3)\n",
    "bundle2 = (3, 2)\n",
    "\n",
    "if bundle1 == bundle2: #Lexicographic utility\n",
    "    print(\"The two bundles give the same amount of utility\")"
   ]
  },
  {
   "cell_type": "code",
   "execution_count": 66,
   "id": "cddcfc52",
   "metadata": {},
   "outputs": [
    {
     "name": "stdout",
     "output_type": "stream",
     "text": [
      "The two bundles give the same amount of utility\n"
     ]
    }
   ],
   "source": [
    "basket1 = (10, 5)\n",
    "basket2 = (10, 5)\n",
    "\n",
    "if basket1 == basket2:\n",
    "    print(\"The two bundles give the same amount of utility\")"
   ]
  },
  {
   "cell_type": "code",
   "execution_count": 69,
   "id": "67c84837",
   "metadata": {},
   "outputs": [
    {
     "name": "stdout",
     "output_type": "stream",
     "text": [
      "The two bundles do not give the same amount of utility\n"
     ]
    }
   ],
   "source": [
    "bundle1 = (2, 3)\n",
    "bundle2 = (3, 2)\n",
    "\n",
    "if bundle1 == bundle2:\n",
    "    print(\"The two bundles give the same amount of utility\")\n",
    "else:\n",
    "    print(\"The two bundles do not give the same amount of utility\")"
   ]
  },
  {
   "cell_type": "markdown",
   "id": "497341d8",
   "metadata": {},
   "source": [
    "#### lexicographic utility"
   ]
  },
  {
   "cell_type": "code",
   "execution_count": 74,
   "id": "f3ce7e31",
   "metadata": {},
   "outputs": [
    {
     "name": "stdout",
     "output_type": "stream",
     "text": [
      "The two sets do not give the same amount of utility\n"
     ]
    }
   ],
   "source": [
    "choice_set1 = [10, 9, 8, 7]\n",
    "choice_set2 = [10, 9, 4, 11]\n",
    "\n",
    "if choice_set1 == choice_set2:\n",
    "    print(\"The two sets give the same amount of utility\")\n",
    "else:\n",
    "    print(\"The two sets do not give the same amount of utility\")"
   ]
  },
  {
   "cell_type": "code",
   "execution_count": 76,
   "id": "a04e2724",
   "metadata": {},
   "outputs": [
    {
     "data": {
      "text/plain": [
       "True"
      ]
     },
     "execution_count": 76,
     "metadata": {},
     "output_type": "execute_result"
    }
   ],
   "source": [
    "sum(choice_set1) == sum(choice_set2) #lexicographic utility is not sensitive to total utility"
   ]
  },
  {
   "cell_type": "markdown",
   "id": "4af6431f",
   "metadata": {},
   "source": [
    "### Approach: summing up the utilities\n",
    "\n",
    "#### without conditons"
   ]
  },
  {
   "cell_type": "code",
   "execution_count": 78,
   "id": "531b4cbd",
   "metadata": {},
   "outputs": [
    {
     "name": "stdout",
     "output_type": "stream",
     "text": [
      "set 1 is preferred over set 2:  False\n",
      "set 2 is preferred over set 1:  False\n",
      "indifference between the two sets: True\n"
     ]
    }
   ],
   "source": [
    "#bundles \n",
    "choice_set1 = [10, 9, 8, 7]\n",
    "choice_set2 = [10, 9, 4, 11]\n",
    "\n",
    "#the amounts of utilities\n",
    "utility1 = sum(choice_set1)\n",
    "utility2 = sum(choice_set2)\n",
    "\n",
    "#the result\n",
    "one_is_preferred = utility1 > utility2\n",
    "two_is_prerred = utility2 > utility1\n",
    "indifference_between_the_two_sets = utility2 == utility1\n",
    "\n",
    "#output results\n",
    "print(\"set 1 is preferred over set 2: \", one_is_preferred)\n",
    "print(\"set 2 is preferred over set 1: \", two_is_prerred)\n",
    "print(f'indifference between the two sets: {indifference_between_the_two_sets}')"
   ]
  },
  {
   "cell_type": "markdown",
   "id": "b876dbd0",
   "metadata": {},
   "source": [
    "#### With condtions"
   ]
  },
  {
   "cell_type": "code",
   "execution_count": 95,
   "id": "668909be",
   "metadata": {},
   "outputs": [
    {
     "name": "stdout",
     "output_type": "stream",
     "text": [
      "Consumer is indifferent between the two sets\n"
     ]
    }
   ],
   "source": [
    "#bundles \n",
    "choice_set1 = [10, 9, 8, 7]\n",
    "choice_set2 = [10, 9, 4, 11]\n",
    "\n",
    "#the amounts of utilities\n",
    "utility1 = sum(choice_set1)\n",
    "utility2 = sum(choice_set2)\n",
    "\n",
    "\n",
    "if utility1 > utility2:\n",
    "    print(\"set 1 is preferred over set\")\n",
    "elif utility2 > utility1:\n",
    "    print(\"set 2 is preferred over set\")\n",
    "else: print(\"Consumer is indifferent between the two sets\")"
   ]
  },
  {
   "cell_type": "markdown",
   "id": "e9559163",
   "metadata": {},
   "source": [
    "# Exercises"
   ]
  },
  {
   "cell_type": "markdown",
   "id": "212f156b",
   "metadata": {},
   "source": [
    "### 1. Write a Python function that takes two lists and returns True if they are equal and False otherwise.\n",
    "\n",
    "### 2. Write a function that returns None and demonstrate how to check if the return value is None.\n",
    "\n",
    "### 3. Given two bundles of goods, write a function to determine if a consumer prefers one bundle over the other, or if they are indifferent.\n",
    "\n",
    "### 4. Create two sets of utilities and write a script to compare their total utilities and print the preferred set or if the consumer is indifferent. (Use multiplication instead of addition for finding the total utility)"
   ]
  }
 ],
 "metadata": {
  "kernelspec": {
   "display_name": "Python 3 (ipykernel)",
   "language": "python",
   "name": "python3"
  },
  "language_info": {
   "codemirror_mode": {
    "name": "ipython",
    "version": 3
   },
   "file_extension": ".py",
   "mimetype": "text/x-python",
   "name": "python",
   "nbconvert_exporter": "python",
   "pygments_lexer": "ipython3",
   "version": "3.9.13"
  }
 },
 "nbformat": 4,
 "nbformat_minor": 5
}
