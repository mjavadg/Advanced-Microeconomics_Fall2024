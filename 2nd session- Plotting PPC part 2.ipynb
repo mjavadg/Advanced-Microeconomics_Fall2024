{
 "cells": [
  {
   "cell_type": "markdown",
   "id": "995979de",
   "metadata": {},
   "source": [
    "# 2nd Session"
   ]
  },
  {
   "cell_type": "markdown",
   "id": "03ec14bc",
   "metadata": {},
   "source": [
    "## How to speak with python"
   ]
  },
  {
   "cell_type": "code",
   "execution_count": 8,
   "id": "65eb2213",
   "metadata": {},
   "outputs": [
    {
     "ename": "NameError",
     "evalue": "name 'hello' is not defined",
     "output_type": "error",
     "traceback": [
      "\u001b[1;31m---------------------------------------------------------------------------\u001b[0m",
      "\u001b[1;31mNameError\u001b[0m                                 Traceback (most recent call last)",
      "\u001b[1;32m~\\AppData\\Local\\Temp\\ipykernel_15296\\3305111549.py\u001b[0m in \u001b[0;36m<module>\u001b[1;34m\u001b[0m\n\u001b[1;32m----> 1\u001b[1;33m \u001b[0mhello\u001b[0m\u001b[1;33m\u001b[0m\u001b[1;33m\u001b[0m\u001b[0m\n\u001b[0m",
      "\u001b[1;31mNameError\u001b[0m: name 'hello' is not defined"
     ]
    }
   ],
   "source": [
    "hello"
   ]
  },
  {
   "cell_type": "code",
   "execution_count": 2,
   "id": "c4fbfce7",
   "metadata": {},
   "outputs": [
    {
     "ename": "TypeError",
     "evalue": "unsupported operand type(s) for +: 'int' and 'str'",
     "output_type": "error",
     "traceback": [
      "\u001b[1;31m---------------------------------------------------------------------------\u001b[0m",
      "\u001b[1;31mTypeError\u001b[0m                                 Traceback (most recent call last)",
      "\u001b[1;32m~\\AppData\\Local\\Temp\\ipykernel_15296\\1851537828.py\u001b[0m in \u001b[0;36m<module>\u001b[1;34m\u001b[0m\n\u001b[1;32m----> 1\u001b[1;33m \u001b[1;36m2\u001b[0m \u001b[1;33m+\u001b[0m\u001b[1;34m\"string\"\u001b[0m\u001b[1;33m\u001b[0m\u001b[1;33m\u001b[0m\u001b[0m\n\u001b[0m",
      "\u001b[1;31mTypeError\u001b[0m: unsupported operand type(s) for +: 'int' and 'str'"
     ]
    }
   ],
   "source": [
    "2 +\"string\""
   ]
  },
  {
   "cell_type": "code",
   "execution_count": 3,
   "id": "80315d4b",
   "metadata": {},
   "outputs": [
    {
     "data": {
      "text/plain": [
       "'hello world'"
      ]
     },
     "execution_count": 3,
     "metadata": {},
     "output_type": "execute_result"
    }
   ],
   "source": [
    "\"hello world\""
   ]
  },
  {
   "cell_type": "code",
   "execution_count": 4,
   "id": "67147ec2",
   "metadata": {},
   "outputs": [
    {
     "data": {
      "text/plain": [
       "4"
      ]
     },
     "execution_count": 4,
     "metadata": {},
     "output_type": "execute_result"
    }
   ],
   "source": [
    "2+2"
   ]
  },
  {
   "cell_type": "code",
   "execution_count": 5,
   "id": "6b8d216c",
   "metadata": {},
   "outputs": [
    {
     "data": {
      "text/plain": [
       "2"
      ]
     },
     "execution_count": 5,
     "metadata": {},
     "output_type": "execute_result"
    }
   ],
   "source": [
    "2"
   ]
  },
  {
   "cell_type": "markdown",
   "id": "c7a9999f",
   "metadata": {},
   "source": [
    "# Sequential data types"
   ]
  },
  {
   "cell_type": "markdown",
   "id": "853db22b",
   "metadata": {},
   "source": [
    "## 1. String"
   ]
  },
  {
   "cell_type": "code",
   "execution_count": 6,
   "id": "d010dd74",
   "metadata": {},
   "outputs": [
    {
     "data": {
      "text/plain": [
       "'microeconomics'"
      ]
     },
     "execution_count": 6,
     "metadata": {},
     "output_type": "execute_result"
    }
   ],
   "source": [
    "\"microeconomics\""
   ]
  },
  {
   "cell_type": "code",
   "execution_count": 9,
   "id": "08ec914a",
   "metadata": {},
   "outputs": [
    {
     "data": {
      "text/plain": [
       "'Javad'"
      ]
     },
     "execution_count": 9,
     "metadata": {},
     "output_type": "execute_result"
    }
   ],
   "source": [
    "\"Javad\""
   ]
  },
  {
   "cell_type": "code",
   "execution_count": 10,
   "id": "cdce80ab",
   "metadata": {},
   "outputs": [
    {
     "data": {
      "text/plain": [
       "'18'"
      ]
     },
     "execution_count": 10,
     "metadata": {},
     "output_type": "execute_result"
    }
   ],
   "source": [
    "\"18\""
   ]
  },
  {
   "cell_type": "code",
   "execution_count": 7,
   "id": "4707aba2",
   "metadata": {},
   "outputs": [
    {
     "data": {
      "text/plain": [
       "'2'"
      ]
     },
     "execution_count": 7,
     "metadata": {},
     "output_type": "execute_result"
    }
   ],
   "source": [
    "'2'"
   ]
  },
  {
   "cell_type": "code",
   "execution_count": 11,
   "id": "10fba6b0",
   "metadata": {},
   "outputs": [
    {
     "data": {
      "text/plain": [
       "'today'"
      ]
     },
     "execution_count": 11,
     "metadata": {},
     "output_type": "execute_result"
    }
   ],
   "source": [
    "'today'"
   ]
  },
  {
   "cell_type": "code",
   "execution_count": 13,
   "id": "a97d3240",
   "metadata": {},
   "outputs": [
    {
     "data": {
      "text/plain": [
       "'September'"
      ]
     },
     "execution_count": 13,
     "metadata": {},
     "output_type": "execute_result"
    }
   ],
   "source": [
    "'''September'''"
   ]
  },
  {
   "cell_type": "code",
   "execution_count": null,
   "id": "9d20d813",
   "metadata": {},
   "outputs": [],
   "source": []
  },
  {
   "cell_type": "code",
   "execution_count": 12,
   "id": "eee17973",
   "metadata": {},
   "outputs": [
    {
     "data": {
      "text/plain": [
       "'today'"
      ]
     },
     "execution_count": 12,
     "metadata": {},
     "output_type": "execute_result"
    }
   ],
   "source": [
    "\"today\""
   ]
  },
  {
   "cell_type": "code",
   "execution_count": 14,
   "id": "3c2dea3a",
   "metadata": {},
   "outputs": [
    {
     "data": {
      "text/plain": [
       "str"
      ]
     },
     "execution_count": 14,
     "metadata": {},
     "output_type": "execute_result"
    }
   ],
   "source": [
    "type(\"today\")"
   ]
  },
  {
   "cell_type": "code",
   "execution_count": 15,
   "id": "a837f20a",
   "metadata": {},
   "outputs": [
    {
     "data": {
      "text/plain": [
       "str"
      ]
     },
     "execution_count": 15,
     "metadata": {},
     "output_type": "execute_result"
    }
   ],
   "source": [
    "type('2')"
   ]
  },
  {
   "cell_type": "markdown",
   "id": "a96c92f1",
   "metadata": {},
   "source": [
    "## 2. list"
   ]
  },
  {
   "cell_type": "code",
   "execution_count": 16,
   "id": "a97ff1de",
   "metadata": {},
   "outputs": [
    {
     "data": {
      "text/plain": [
       "[1, 2, 3, 4]"
      ]
     },
     "execution_count": 16,
     "metadata": {},
     "output_type": "execute_result"
    }
   ],
   "source": [
    "[1, 2, 3, 4]"
   ]
  },
  {
   "cell_type": "code",
   "execution_count": 19,
   "id": "a013e933",
   "metadata": {},
   "outputs": [
    {
     "data": {
      "text/plain": [
       "['James', 18, 'Jane', 16]"
      ]
     },
     "execution_count": 19,
     "metadata": {},
     "output_type": "execute_result"
    }
   ],
   "source": [
    "['''James''', 18, \"Jane\", 16]"
   ]
  },
  {
   "cell_type": "code",
   "execution_count": 20,
   "id": "e6488542",
   "metadata": {},
   "outputs": [],
   "source": [
    "a = [\"James\", 18, \"Jane\", 16]"
   ]
  },
  {
   "cell_type": "code",
   "execution_count": 29,
   "id": "f0b70cf5",
   "metadata": {},
   "outputs": [
    {
     "data": {
      "text/plain": [
       "'James'"
      ]
     },
     "execution_count": 29,
     "metadata": {},
     "output_type": "execute_result"
    }
   ],
   "source": [
    "a[0]"
   ]
  },
  {
   "cell_type": "code",
   "execution_count": 30,
   "id": "e9e91694",
   "metadata": {},
   "outputs": [
    {
     "ename": "IndexError",
     "evalue": "list index out of range",
     "output_type": "error",
     "traceback": [
      "\u001b[1;31m---------------------------------------------------------------------------\u001b[0m",
      "\u001b[1;31mIndexError\u001b[0m                                Traceback (most recent call last)",
      "\u001b[1;32m~\\AppData\\Local\\Temp\\ipykernel_15296\\3944406842.py\u001b[0m in \u001b[0;36m<module>\u001b[1;34m\u001b[0m\n\u001b[1;32m----> 1\u001b[1;33m \u001b[0ma\u001b[0m\u001b[1;33m[\u001b[0m\u001b[1;36m4\u001b[0m\u001b[1;33m]\u001b[0m\u001b[1;33m\u001b[0m\u001b[1;33m\u001b[0m\u001b[0m\n\u001b[0m",
      "\u001b[1;31mIndexError\u001b[0m: list index out of range"
     ]
    }
   ],
   "source": [
    "a[4]"
   ]
  },
  {
   "cell_type": "code",
   "execution_count": 22,
   "id": "0c4a5f83",
   "metadata": {},
   "outputs": [
    {
     "data": {
      "text/plain": [
       "list"
      ]
     },
     "execution_count": 22,
     "metadata": {},
     "output_type": "execute_result"
    }
   ],
   "source": [
    "type(a)"
   ]
  },
  {
   "cell_type": "code",
   "execution_count": 23,
   "id": "7210a41e",
   "metadata": {},
   "outputs": [
    {
     "data": {
      "text/plain": [
       "9"
      ]
     },
     "execution_count": 23,
     "metadata": {},
     "output_type": "execute_result"
    }
   ],
   "source": [
    "2+2\n",
    "4+5"
   ]
  },
  {
   "cell_type": "code",
   "execution_count": 24,
   "id": "9636d865",
   "metadata": {},
   "outputs": [
    {
     "name": "stdout",
     "output_type": "stream",
     "text": [
      "4\n",
      "9\n"
     ]
    }
   ],
   "source": [
    "print(2+2)\n",
    "print(4+5)"
   ]
  },
  {
   "cell_type": "code",
   "execution_count": 26,
   "id": "63454e98",
   "metadata": {},
   "outputs": [
    {
     "name": "stdout",
     "output_type": "stream",
     "text": [
      "Hello\n"
     ]
    }
   ],
   "source": [
    "print(\"Hello\")"
   ]
  },
  {
   "cell_type": "code",
   "execution_count": 27,
   "id": "ea21d4f7",
   "metadata": {},
   "outputs": [
    {
     "name": "stdout",
     "output_type": "stream",
     "text": [
      "Alice's cat\n"
     ]
    }
   ],
   "source": [
    "print(\"Alice's cat\")"
   ]
  },
  {
   "cell_type": "code",
   "execution_count": 28,
   "id": "3f838558",
   "metadata": {},
   "outputs": [
    {
     "ename": "SyntaxError",
     "evalue": "invalid syntax (821263357.py, line 1)",
     "output_type": "error",
     "traceback": [
      "\u001b[1;36m  File \u001b[1;32m\"C:\\Users\\MJ\\AppData\\Local\\Temp\\ipykernel_15296\\821263357.py\"\u001b[1;36m, line \u001b[1;32m1\u001b[0m\n\u001b[1;33m    print('Alice's cat')\u001b[0m\n\u001b[1;37m                 ^\u001b[0m\n\u001b[1;31mSyntaxError\u001b[0m\u001b[1;31m:\u001b[0m invalid syntax\n"
     ]
    }
   ],
   "source": [
    "print('Alice's cat')"
   ]
  },
  {
   "cell_type": "code",
   "execution_count": 45,
   "id": "7d9bf460",
   "metadata": {},
   "outputs": [],
   "source": [
    "a = [\"James\", 18, \"Jane\", 16]"
   ]
  },
  {
   "cell_type": "code",
   "execution_count": 46,
   "id": "6f98ee6e",
   "metadata": {},
   "outputs": [],
   "source": [
    "a.append(\"John\")"
   ]
  },
  {
   "cell_type": "code",
   "execution_count": 47,
   "id": "ff0795cb",
   "metadata": {},
   "outputs": [
    {
     "data": {
      "text/plain": [
       "['James', 18, 'Jane', 16, 'John']"
      ]
     },
     "execution_count": 47,
     "metadata": {},
     "output_type": "execute_result"
    }
   ],
   "source": [
    "a"
   ]
  },
  {
   "cell_type": "code",
   "execution_count": null,
   "id": "65ad652c",
   "metadata": {},
   "outputs": [],
   "source": []
  },
  {
   "cell_type": "markdown",
   "id": "2f5ee39b",
   "metadata": {},
   "source": [
    "## 3. tuple"
   ]
  },
  {
   "cell_type": "code",
   "execution_count": 31,
   "id": "bb504f17",
   "metadata": {},
   "outputs": [
    {
     "data": {
      "text/plain": [
       "(1, 2, 3, 4)"
      ]
     },
     "execution_count": 31,
     "metadata": {},
     "output_type": "execute_result"
    }
   ],
   "source": [
    "1,2,3,4"
   ]
  },
  {
   "cell_type": "code",
   "execution_count": 34,
   "id": "17a0df81",
   "metadata": {},
   "outputs": [],
   "source": [
    "f = 15"
   ]
  },
  {
   "cell_type": "code",
   "execution_count": 35,
   "id": "86dbd120",
   "metadata": {},
   "outputs": [],
   "source": [
    "q = w = e = c = 27"
   ]
  },
  {
   "cell_type": "code",
   "execution_count": 36,
   "id": "5a582330",
   "metadata": {},
   "outputs": [
    {
     "data": {
      "text/plain": [
       "(['James', 18, 'Jane', 16], 'b', 27, 1, 2, 3, 4)"
      ]
     },
     "execution_count": 36,
     "metadata": {},
     "output_type": "execute_result"
    }
   ],
   "source": [
    "(a,\"b\",c,1,2,3,4)"
   ]
  },
  {
   "cell_type": "code",
   "execution_count": null,
   "id": "e4a73a34",
   "metadata": {},
   "outputs": [],
   "source": [
    "print"
   ]
  },
  {
   "cell_type": "code",
   "execution_count": 37,
   "id": "76c4921f",
   "metadata": {},
   "outputs": [
    {
     "data": {
      "text/plain": [
       "tuple"
      ]
     },
     "execution_count": 37,
     "metadata": {},
     "output_type": "execute_result"
    }
   ],
   "source": [
    "type((a,\"b\",c,1,2,3,4))"
   ]
  },
  {
   "cell_type": "code",
   "execution_count": 38,
   "id": "73dedc31",
   "metadata": {},
   "outputs": [],
   "source": [
    "o = 1,2,3,4"
   ]
  },
  {
   "cell_type": "code",
   "execution_count": 39,
   "id": "e7bc5fed",
   "metadata": {},
   "outputs": [
    {
     "data": {
      "text/plain": [
       "tuple"
      ]
     },
     "execution_count": 39,
     "metadata": {},
     "output_type": "execute_result"
    }
   ],
   "source": [
    "type(o)"
   ]
  },
  {
   "cell_type": "code",
   "execution_count": 40,
   "id": "d0096514",
   "metadata": {},
   "outputs": [],
   "source": [
    "u = (a,\"b\",c,1,2,3,4)"
   ]
  },
  {
   "cell_type": "code",
   "execution_count": 41,
   "id": "9b952b6d",
   "metadata": {},
   "outputs": [
    {
     "data": {
      "text/plain": [
       "['James', 18, 'Jane', 16]"
      ]
     },
     "execution_count": 41,
     "metadata": {},
     "output_type": "execute_result"
    }
   ],
   "source": [
    "u[0]"
   ]
  },
  {
   "cell_type": "code",
   "execution_count": 42,
   "id": "707f8a99",
   "metadata": {},
   "outputs": [
    {
     "data": {
      "text/plain": [
       "'James'"
      ]
     },
     "execution_count": 42,
     "metadata": {},
     "output_type": "execute_result"
    }
   ],
   "source": [
    "u[0][0]"
   ]
  },
  {
   "cell_type": "code",
   "execution_count": 43,
   "id": "ff3aaca9",
   "metadata": {},
   "outputs": [],
   "source": [
    " string1 = \"GREAT\""
   ]
  },
  {
   "cell_type": "code",
   "execution_count": 44,
   "id": "f3728d2c",
   "metadata": {},
   "outputs": [
    {
     "data": {
      "text/plain": [
       "'GREET'"
      ]
     },
     "execution_count": 44,
     "metadata": {},
     "output_type": "execute_result"
    }
   ],
   "source": [
    "string1.replace(\"A\", \"E\")"
   ]
  },
  {
   "cell_type": "code",
   "execution_count": 48,
   "id": "76533928",
   "metadata": {},
   "outputs": [],
   "source": [
    "u = (a,\"b\",c,1,2,3,4)"
   ]
  },
  {
   "cell_type": "code",
   "execution_count": 49,
   "id": "da537615",
   "metadata": {},
   "outputs": [
    {
     "ename": "AttributeError",
     "evalue": "'tuple' object has no attribute 'append'",
     "output_type": "error",
     "traceback": [
      "\u001b[1;31m---------------------------------------------------------------------------\u001b[0m",
      "\u001b[1;31mAttributeError\u001b[0m                            Traceback (most recent call last)",
      "\u001b[1;32m~\\AppData\\Local\\Temp\\ipykernel_15296\\698374712.py\u001b[0m in \u001b[0;36m<module>\u001b[1;34m\u001b[0m\n\u001b[1;32m----> 1\u001b[1;33m \u001b[0mu\u001b[0m\u001b[1;33m.\u001b[0m\u001b[0mappend\u001b[0m\u001b[1;33m(\u001b[0m\u001b[1;36m5\u001b[0m\u001b[1;33m)\u001b[0m\u001b[1;33m\u001b[0m\u001b[1;33m\u001b[0m\u001b[0m\n\u001b[0m",
      "\u001b[1;31mAttributeError\u001b[0m: 'tuple' object has no attribute 'append'"
     ]
    }
   ],
   "source": [
    "u.append(5)"
   ]
  },
  {
   "cell_type": "code",
   "execution_count": 50,
   "id": "8af1c87c",
   "metadata": {
    "scrolled": true
   },
   "outputs": [
    {
     "ename": "AttributeError",
     "evalue": "'tuple' object has no attribute 'remove'",
     "output_type": "error",
     "traceback": [
      "\u001b[1;31m---------------------------------------------------------------------------\u001b[0m",
      "\u001b[1;31mAttributeError\u001b[0m                            Traceback (most recent call last)",
      "\u001b[1;32m~\\AppData\\Local\\Temp\\ipykernel_15296\\2467892119.py\u001b[0m in \u001b[0;36m<module>\u001b[1;34m\u001b[0m\n\u001b[1;32m----> 1\u001b[1;33m \u001b[0mu\u001b[0m\u001b[1;33m.\u001b[0m\u001b[0mremove\u001b[0m\u001b[1;33m(\u001b[0m\u001b[1;33m[\u001b[0m\u001b[1;36m0\u001b[0m\u001b[1;33m]\u001b[0m\u001b[1;33m)\u001b[0m\u001b[1;33m\u001b[0m\u001b[1;33m\u001b[0m\u001b[0m\n\u001b[0m",
      "\u001b[1;31mAttributeError\u001b[0m: 'tuple' object has no attribute 'remove'"
     ]
    }
   ],
   "source": [
    "u.remove([0])"
   ]
  },
  {
   "cell_type": "code",
   "execution_count": 51,
   "id": "df634eb9",
   "metadata": {},
   "outputs": [
    {
     "name": "stdout",
     "output_type": "stream",
     "text": [
      "<class 'int'>\n"
     ]
    }
   ],
   "source": [
    "print(type(12))"
   ]
  },
  {
   "cell_type": "code",
   "execution_count": null,
   "id": "b0d28830",
   "metadata": {},
   "outputs": [],
   "source": []
  },
  {
   "cell_type": "markdown",
   "id": "07e59000",
   "metadata": {},
   "source": [
    "# Numeric data types"
   ]
  },
  {
   "cell_type": "markdown",
   "id": "276e4f4a",
   "metadata": {},
   "source": [
    "## 1. Integer"
   ]
  },
  {
   "cell_type": "code",
   "execution_count": 52,
   "id": "03ea5bf5",
   "metadata": {},
   "outputs": [
    {
     "data": {
      "text/plain": [
       "12"
      ]
     },
     "execution_count": 52,
     "metadata": {},
     "output_type": "execute_result"
    }
   ],
   "source": [
    "12"
   ]
  },
  {
   "cell_type": "code",
   "execution_count": 53,
   "id": "b9dbe084",
   "metadata": {},
   "outputs": [
    {
     "data": {
      "text/plain": [
       "-12"
      ]
     },
     "execution_count": 53,
     "metadata": {},
     "output_type": "execute_result"
    }
   ],
   "source": [
    "-12"
   ]
  },
  {
   "cell_type": "code",
   "execution_count": 54,
   "id": "67b62bee",
   "metadata": {},
   "outputs": [
    {
     "data": {
      "text/plain": [
       "int"
      ]
     },
     "execution_count": 54,
     "metadata": {},
     "output_type": "execute_result"
    }
   ],
   "source": [
    "type(12)"
   ]
  },
  {
   "cell_type": "code",
   "execution_count": null,
   "id": "56a2d9b0",
   "metadata": {},
   "outputs": [],
   "source": []
  },
  {
   "cell_type": "markdown",
   "id": "422d383a",
   "metadata": {},
   "source": [
    "## 2. Float"
   ]
  },
  {
   "cell_type": "code",
   "execution_count": 55,
   "id": "d43c7c2d",
   "metadata": {},
   "outputs": [
    {
     "data": {
      "text/plain": [
       "12.5"
      ]
     },
     "execution_count": 55,
     "metadata": {},
     "output_type": "execute_result"
    }
   ],
   "source": [
    "12.5"
   ]
  },
  {
   "cell_type": "code",
   "execution_count": 56,
   "id": "cea435c7",
   "metadata": {},
   "outputs": [
    {
     "data": {
      "text/plain": [
       "float"
      ]
     },
     "execution_count": 56,
     "metadata": {},
     "output_type": "execute_result"
    }
   ],
   "source": [
    "type(12.5)"
   ]
  },
  {
   "cell_type": "code",
   "execution_count": 57,
   "id": "cd077df7",
   "metadata": {},
   "outputs": [
    {
     "data": {
      "text/plain": [
       "24"
      ]
     },
     "execution_count": 57,
     "metadata": {},
     "output_type": "execute_result"
    }
   ],
   "source": [
    "12 + 12"
   ]
  },
  {
   "cell_type": "code",
   "execution_count": 58,
   "id": "8169c83c",
   "metadata": {},
   "outputs": [
    {
     "data": {
      "text/plain": [
       "2.0"
      ]
     },
     "execution_count": 58,
     "metadata": {},
     "output_type": "execute_result"
    }
   ],
   "source": [
    "4 / 2"
   ]
  },
  {
   "cell_type": "code",
   "execution_count": 59,
   "id": "eae1c4be",
   "metadata": {},
   "outputs": [
    {
     "data": {
      "text/plain": [
       "8"
      ]
     },
     "execution_count": 59,
     "metadata": {},
     "output_type": "execute_result"
    }
   ],
   "source": [
    "4 * 2"
   ]
  },
  {
   "cell_type": "code",
   "execution_count": 60,
   "id": "2d70aba1",
   "metadata": {},
   "outputs": [
    {
     "data": {
      "text/plain": [
       "float"
      ]
     },
     "execution_count": 60,
     "metadata": {},
     "output_type": "execute_result"
    }
   ],
   "source": [
    "type(4 / 2)"
   ]
  },
  {
   "cell_type": "code",
   "execution_count": 61,
   "id": "3db2feb6",
   "metadata": {},
   "outputs": [
    {
     "data": {
      "text/plain": [
       "int"
      ]
     },
     "execution_count": 61,
     "metadata": {},
     "output_type": "execute_result"
    }
   ],
   "source": [
    "type(4 * 2)"
   ]
  },
  {
   "cell_type": "code",
   "execution_count": 63,
   "id": "8bd66ccf",
   "metadata": {},
   "outputs": [
    {
     "data": {
      "text/plain": [
       "2"
      ]
     },
     "execution_count": 63,
     "metadata": {},
     "output_type": "execute_result"
    }
   ],
   "source": [
    "int(4/2)"
   ]
  },
  {
   "cell_type": "code",
   "execution_count": 65,
   "id": "ac86fe1a",
   "metadata": {},
   "outputs": [
    {
     "data": {
      "text/plain": [
       "8.0"
      ]
     },
     "execution_count": 65,
     "metadata": {},
     "output_type": "execute_result"
    }
   ],
   "source": [
    "float(4*2)"
   ]
  },
  {
   "cell_type": "code",
   "execution_count": 67,
   "id": "90e9ef79",
   "metadata": {
    "scrolled": true
   },
   "outputs": [
    {
     "data": {
      "text/plain": [
       "'7.07.07.07.07.0'"
      ]
     },
     "execution_count": 67,
     "metadata": {},
     "output_type": "execute_result"
    }
   ],
   "source": [
    "str(42/6) * 5"
   ]
  },
  {
   "cell_type": "code",
   "execution_count": 68,
   "id": "0890a967",
   "metadata": {},
   "outputs": [
    {
     "data": {
      "text/plain": [
       "2"
      ]
     },
     "execution_count": 68,
     "metadata": {},
     "output_type": "execute_result"
    }
   ],
   "source": [
    "int(5/2)"
   ]
  },
  {
   "cell_type": "markdown",
   "id": "de903ec7",
   "metadata": {},
   "source": [
    "## 3. Complex"
   ]
  },
  {
   "cell_type": "code",
   "execution_count": 69,
   "id": "9c80b58d",
   "metadata": {},
   "outputs": [
    {
     "data": {
      "text/plain": [
       "(5+5j)"
      ]
     },
     "execution_count": 69,
     "metadata": {},
     "output_type": "execute_result"
    }
   ],
   "source": [
    "5 + 5j"
   ]
  },
  {
   "cell_type": "code",
   "execution_count": 70,
   "id": "3a6bded6",
   "metadata": {},
   "outputs": [
    {
     "data": {
      "text/plain": [
       "complex"
      ]
     },
     "execution_count": 70,
     "metadata": {},
     "output_type": "execute_result"
    }
   ],
   "source": [
    "type(5 + 5j)"
   ]
  },
  {
   "cell_type": "code",
   "execution_count": 71,
   "id": "77bf5e57",
   "metadata": {},
   "outputs": [
    {
     "data": {
      "text/plain": [
       "(4+5j)"
      ]
     },
     "execution_count": 71,
     "metadata": {},
     "output_type": "execute_result"
    }
   ],
   "source": [
    "complex(4, 5)"
   ]
  },
  {
   "cell_type": "code",
   "execution_count": 72,
   "id": "4944ee03",
   "metadata": {},
   "outputs": [],
   "source": [
    "g = complex(4, 5)"
   ]
  },
  {
   "cell_type": "code",
   "execution_count": 73,
   "id": "67baa084",
   "metadata": {},
   "outputs": [
    {
     "data": {
      "text/plain": [
       "4.0"
      ]
     },
     "execution_count": 73,
     "metadata": {},
     "output_type": "execute_result"
    }
   ],
   "source": [
    "g.real"
   ]
  },
  {
   "cell_type": "code",
   "execution_count": 74,
   "id": "1e5986b2",
   "metadata": {},
   "outputs": [
    {
     "data": {
      "text/plain": [
       "5.0"
      ]
     },
     "execution_count": 74,
     "metadata": {},
     "output_type": "execute_result"
    }
   ],
   "source": [
    "g.imag"
   ]
  },
  {
   "cell_type": "code",
   "execution_count": 75,
   "id": "1d7e4717",
   "metadata": {},
   "outputs": [
    {
     "data": {
      "text/plain": [
       "6.25"
      ]
     },
     "execution_count": 75,
     "metadata": {},
     "output_type": "execute_result"
    }
   ],
   "source": [
    "2.5 * 2.5"
   ]
  },
  {
   "cell_type": "markdown",
   "id": "a4675375",
   "metadata": {},
   "source": [
    "## Mapping data types"
   ]
  },
  {
   "cell_type": "markdown",
   "id": "cc923650",
   "metadata": {},
   "source": [
    "## Dictionaries"
   ]
  },
  {
   "cell_type": "code",
   "execution_count": 76,
   "id": "efa96a7c",
   "metadata": {},
   "outputs": [],
   "source": [
    "dictionary = {\"age\" : 18, \"name\" : \"Joseph\", \"drive license\" : \"No\"}"
   ]
  },
  {
   "cell_type": "code",
   "execution_count": 77,
   "id": "274e9776",
   "metadata": {},
   "outputs": [
    {
     "ename": "ValueError",
     "evalue": "dictionary update sequence element #0 has length 5; 2 is required",
     "output_type": "error",
     "traceback": [
      "\u001b[1;31m---------------------------------------------------------------------------\u001b[0m",
      "\u001b[1;31mValueError\u001b[0m                                Traceback (most recent call last)",
      "\u001b[1;32m~\\AppData\\Local\\Temp\\ipykernel_15296\\733516215.py\u001b[0m in \u001b[0;36m<module>\u001b[1;34m\u001b[0m\n\u001b[1;32m----> 1\u001b[1;33m \u001b[0mex\u001b[0m \u001b[1;33m=\u001b[0m \u001b[0mdict\u001b[0m\u001b[1;33m(\u001b[0m\u001b[0ma\u001b[0m\u001b[1;33m)\u001b[0m\u001b[1;33m\u001b[0m\u001b[1;33m\u001b[0m\u001b[0m\n\u001b[0m",
      "\u001b[1;31mValueError\u001b[0m: dictionary update sequence element #0 has length 5; 2 is required"
     ]
    }
   ],
   "source": [
    "ex = dict(a)"
   ]
  },
  {
   "cell_type": "code",
   "execution_count": 78,
   "id": "36fc5d24",
   "metadata": {},
   "outputs": [
    {
     "data": {
      "text/plain": [
       "dict"
      ]
     },
     "execution_count": 78,
     "metadata": {},
     "output_type": "execute_result"
    }
   ],
   "source": [
    "type(dictionary)"
   ]
  },
  {
   "cell_type": "code",
   "execution_count": null,
   "id": "78caffc6",
   "metadata": {},
   "outputs": [],
   "source": []
  },
  {
   "cell_type": "markdown",
   "id": "bd7fa4d3",
   "metadata": {},
   "source": [
    "# Bool Types"
   ]
  },
  {
   "cell_type": "code",
   "execution_count": 79,
   "id": "f69e2590",
   "metadata": {},
   "outputs": [
    {
     "data": {
      "text/plain": [
       "True"
      ]
     },
     "execution_count": 79,
     "metadata": {},
     "output_type": "execute_result"
    }
   ],
   "source": [
    "1 < 2"
   ]
  },
  {
   "cell_type": "code",
   "execution_count": 80,
   "id": "88ffc47e",
   "metadata": {},
   "outputs": [
    {
     "data": {
      "text/plain": [
       "False"
      ]
     },
     "execution_count": 80,
     "metadata": {},
     "output_type": "execute_result"
    }
   ],
   "source": [
    "1 == 2"
   ]
  },
  {
   "cell_type": "code",
   "execution_count": 81,
   "id": "c3a86fa0",
   "metadata": {},
   "outputs": [
    {
     "data": {
      "text/plain": [
       "2"
      ]
     },
     "execution_count": 81,
     "metadata": {},
     "output_type": "execute_result"
    }
   ],
   "source": [
    "False + 2"
   ]
  },
  {
   "cell_type": "code",
   "execution_count": 82,
   "id": "4f4f3f5c",
   "metadata": {},
   "outputs": [
    {
     "data": {
      "text/plain": [
       "4"
      ]
     },
     "execution_count": 82,
     "metadata": {},
     "output_type": "execute_result"
    }
   ],
   "source": [
    "True + 3"
   ]
  },
  {
   "cell_type": "code",
   "execution_count": 84,
   "id": "3b0f0a62",
   "metadata": {},
   "outputs": [
    {
     "data": {
      "text/plain": [
       "bool"
      ]
     },
     "execution_count": 84,
     "metadata": {},
     "output_type": "execute_result"
    }
   ],
   "source": [
    "type(1 == 1)"
   ]
  },
  {
   "cell_type": "markdown",
   "id": "9e613cc8",
   "metadata": {},
   "source": [
    "# Set types"
   ]
  },
  {
   "cell_type": "code",
   "execution_count": 85,
   "id": "da7bc4a1",
   "metadata": {},
   "outputs": [
    {
     "data": {
      "text/plain": [
       "[1, 5, 4]"
      ]
     },
     "execution_count": 85,
     "metadata": {},
     "output_type": "execute_result"
    }
   ],
   "source": [
    "[1, 5, 4]"
   ]
  },
  {
   "cell_type": "code",
   "execution_count": 87,
   "id": "136ab9cd",
   "metadata": {},
   "outputs": [
    {
     "data": {
      "text/plain": [
       "(['James', 18, 'Jane', 16, 'John'], 'b', 27)"
      ]
     },
     "execution_count": 87,
     "metadata": {},
     "output_type": "execute_result"
    }
   ],
   "source": [
    "(a, 'b', c)"
   ]
  },
  {
   "cell_type": "code",
   "execution_count": 88,
   "id": "7b32dbce",
   "metadata": {},
   "outputs": [
    {
     "data": {
      "text/plain": [
       "{'age': 18, 'name': 'Joseph', 'drive license': 'No'}"
      ]
     },
     "execution_count": 88,
     "metadata": {},
     "output_type": "execute_result"
    }
   ],
   "source": [
    "dictionary"
   ]
  },
  {
   "cell_type": "code",
   "execution_count": 90,
   "id": "eeb92f51",
   "metadata": {},
   "outputs": [
    {
     "name": "stdout",
     "output_type": "stream",
     "text": [
      "{1, 4, 5}\n"
     ]
    },
    {
     "data": {
      "text/plain": [
       "set"
      ]
     },
     "execution_count": 90,
     "metadata": {},
     "output_type": "execute_result"
    }
   ],
   "source": [
    "i = [1, 5, 4]\n",
    "h = set(i)\n",
    "print(h)\n",
    "type(h)"
   ]
  },
  {
   "cell_type": "markdown",
   "id": "a9da0771",
   "metadata": {},
   "source": [
    "# Using python as calculator"
   ]
  },
  {
   "cell_type": "code",
   "execution_count": 91,
   "id": "140025a4",
   "metadata": {},
   "outputs": [
    {
     "data": {
      "text/plain": [
       "16777216"
      ]
     },
     "execution_count": 91,
     "metadata": {},
     "output_type": "execute_result"
    }
   ],
   "source": [
    "8 ** 8"
   ]
  },
  {
   "cell_type": "code",
   "execution_count": 92,
   "id": "d091b350",
   "metadata": {},
   "outputs": [
    {
     "data": {
      "text/plain": [
       "0"
      ]
     },
     "execution_count": 92,
     "metadata": {},
     "output_type": "execute_result"
    }
   ],
   "source": [
    "4 % 2"
   ]
  },
  {
   "cell_type": "code",
   "execution_count": 94,
   "id": "00a27dec",
   "metadata": {},
   "outputs": [
    {
     "data": {
      "text/plain": [
       "4"
      ]
     },
     "execution_count": 94,
     "metadata": {},
     "output_type": "execute_result"
    }
   ],
   "source": [
    "81 % 7"
   ]
  },
  {
   "cell_type": "markdown",
   "id": "5b4c2ecc",
   "metadata": {},
   "source": [
    "## Floor Division"
   ]
  },
  {
   "cell_type": "code",
   "execution_count": 95,
   "id": "17c29596",
   "metadata": {},
   "outputs": [
    {
     "data": {
      "text/plain": [
       "1"
      ]
     },
     "execution_count": 95,
     "metadata": {},
     "output_type": "execute_result"
    }
   ],
   "source": [
    "10 // 9"
   ]
  },
  {
   "cell_type": "code",
   "execution_count": 96,
   "id": "3092fd9b",
   "metadata": {},
   "outputs": [
    {
     "data": {
      "text/plain": [
       "1"
      ]
     },
     "execution_count": 96,
     "metadata": {},
     "output_type": "execute_result"
    }
   ],
   "source": [
    "100 // 99 "
   ]
  },
  {
   "cell_type": "code",
   "execution_count": null,
   "id": "79276b13",
   "metadata": {},
   "outputs": [],
   "source": []
  },
  {
   "cell_type": "markdown",
   "id": "64c67112",
   "metadata": {},
   "source": []
  },
  {
   "cell_type": "markdown",
   "id": "2d4f60b6",
   "metadata": {},
   "source": [
    "# Generating a range of numbers"
   ]
  },
  {
   "cell_type": "markdown",
   "id": "e93ab74e",
   "metadata": {},
   "source": [
    "f(x) = x ** 2"
   ]
  },
  {
   "cell_type": "code",
   "execution_count": 97,
   "id": "ef79c429",
   "metadata": {},
   "outputs": [
    {
     "data": {
      "text/plain": [
       "range(0, 10)"
      ]
     },
     "execution_count": 97,
     "metadata": {},
     "output_type": "execute_result"
    }
   ],
   "source": [
    "range(0, 10)"
   ]
  },
  {
   "cell_type": "code",
   "execution_count": 98,
   "id": "ead64cc6",
   "metadata": {},
   "outputs": [
    {
     "data": {
      "text/plain": [
       "[0, 1, 2, 3, 4, 5, 6, 7, 8, 9]"
      ]
     },
     "execution_count": 98,
     "metadata": {},
     "output_type": "execute_result"
    }
   ],
   "source": [
    "list(range(0, 10))"
   ]
  },
  {
   "cell_type": "code",
   "execution_count": 99,
   "id": "a07b6fac",
   "metadata": {},
   "outputs": [
    {
     "data": {
      "text/plain": [
       "(0, 1, 2, 3, 4, 5, 6, 7, 8, 9)"
      ]
     },
     "execution_count": 99,
     "metadata": {},
     "output_type": "execute_result"
    }
   ],
   "source": [
    "tuple(range(0, 10))"
   ]
  },
  {
   "cell_type": "code",
   "execution_count": 100,
   "id": "b15b12d4",
   "metadata": {},
   "outputs": [
    {
     "data": {
      "text/plain": [
       "(0, 2, 4, 6, 8)"
      ]
     },
     "execution_count": 100,
     "metadata": {},
     "output_type": "execute_result"
    }
   ],
   "source": [
    "tuple(range(0, 10, 2))"
   ]
  },
  {
   "cell_type": "code",
   "execution_count": 101,
   "id": "fff9a05d",
   "metadata": {},
   "outputs": [
    {
     "ename": "TypeError",
     "evalue": "'float' object cannot be interpreted as an integer",
     "output_type": "error",
     "traceback": [
      "\u001b[1;31m---------------------------------------------------------------------------\u001b[0m",
      "\u001b[1;31mTypeError\u001b[0m                                 Traceback (most recent call last)",
      "\u001b[1;32m~\\AppData\\Local\\Temp\\ipykernel_15296\\3357839402.py\u001b[0m in \u001b[0;36m<module>\u001b[1;34m\u001b[0m\n\u001b[1;32m----> 1\u001b[1;33m \u001b[0mtuple\u001b[0m\u001b[1;33m(\u001b[0m\u001b[0mrange\u001b[0m\u001b[1;33m(\u001b[0m\u001b[1;36m0\u001b[0m\u001b[1;33m,\u001b[0m \u001b[1;36m10\u001b[0m\u001b[1;33m,\u001b[0m \u001b[1;36m0.1\u001b[0m\u001b[1;33m)\u001b[0m\u001b[1;33m)\u001b[0m\u001b[1;33m\u001b[0m\u001b[1;33m\u001b[0m\u001b[0m\n\u001b[0m",
      "\u001b[1;31mTypeError\u001b[0m: 'float' object cannot be interpreted as an integer"
     ]
    }
   ],
   "source": [
    "tuple(range(0, 10, 0.1))"
   ]
  },
  {
   "cell_type": "code",
   "execution_count": 102,
   "id": "2a2a0ec7",
   "metadata": {},
   "outputs": [
    {
     "name": "stdout",
     "output_type": "stream",
     "text": [
      "1\n"
     ]
    }
   ],
   "source": [
    "print(1)"
   ]
  },
  {
   "cell_type": "code",
   "execution_count": 103,
   "id": "247875d6",
   "metadata": {},
   "outputs": [
    {
     "name": "stdout",
     "output_type": "stream",
     "text": [
      "2\n"
     ]
    }
   ],
   "source": [
    "print(2)"
   ]
  },
  {
   "cell_type": "code",
   "execution_count": 104,
   "id": "303219cd",
   "metadata": {},
   "outputs": [
    {
     "name": "stdout",
     "output_type": "stream",
     "text": [
      "0\n",
      "1\n",
      "2\n",
      "3\n",
      "4\n",
      "5\n",
      "6\n",
      "7\n",
      "8\n",
      "9\n"
     ]
    }
   ],
   "source": [
    "for item in range(0, 10):\n",
    "    print(item)"
   ]
  },
  {
   "cell_type": "code",
   "execution_count": 117,
   "id": "451c17b4",
   "metadata": {},
   "outputs": [],
   "source": [
    "import numpy as np"
   ]
  },
  {
   "cell_type": "code",
   "execution_count": 150,
   "id": "277ec400",
   "metadata": {},
   "outputs": [
    {
     "data": {
      "text/plain": [
       "array([ 1.        ,  1.18367347,  1.36734694,  1.55102041,  1.73469388,\n",
       "        1.91836735,  2.10204082,  2.28571429,  2.46938776,  2.65306122,\n",
       "        2.83673469,  3.02040816,  3.20408163,  3.3877551 ,  3.57142857,\n",
       "        3.75510204,  3.93877551,  4.12244898,  4.30612245,  4.48979592,\n",
       "        4.67346939,  4.85714286,  5.04081633,  5.2244898 ,  5.40816327,\n",
       "        5.59183673,  5.7755102 ,  5.95918367,  6.14285714,  6.32653061,\n",
       "        6.51020408,  6.69387755,  6.87755102,  7.06122449,  7.24489796,\n",
       "        7.42857143,  7.6122449 ,  7.79591837,  7.97959184,  8.16326531,\n",
       "        8.34693878,  8.53061224,  8.71428571,  8.89795918,  9.08163265,\n",
       "        9.26530612,  9.44897959,  9.63265306,  9.81632653, 10.        ])"
      ]
     },
     "execution_count": 150,
     "metadata": {},
     "output_type": "execute_result"
    }
   ],
   "source": [
    "np.linspace(1, 10)"
   ]
  },
  {
   "cell_type": "code",
   "execution_count": 120,
   "id": "bfa145a3",
   "metadata": {},
   "outputs": [],
   "source": [
    "#help(np.linspace)"
   ]
  },
  {
   "cell_type": "code",
   "execution_count": 128,
   "id": "51085f43",
   "metadata": {},
   "outputs": [
    {
     "data": {
      "text/plain": [
       "array([1. , 5.5])"
      ]
     },
     "execution_count": 128,
     "metadata": {},
     "output_type": "execute_result"
    }
   ],
   "source": [
    "np.arange(1, 10, 4.5)"
   ]
  },
  {
   "cell_type": "code",
   "execution_count": 129,
   "id": "a44fefd5",
   "metadata": {},
   "outputs": [],
   "source": [
    "import matplotlib.pyplot as plt"
   ]
  },
  {
   "cell_type": "code",
   "execution_count": 130,
   "id": "75417886",
   "metadata": {},
   "outputs": [
    {
     "data": {
      "text/plain": [
       "[]"
      ]
     },
     "execution_count": 130,
     "metadata": {},
     "output_type": "execute_result"
    },
    {
     "data": {
      "image/png": "[encoded data removed]",
      "text/plain": [
       "<Figure size 640x480 with 1 Axes>"
      ]
     },
     "metadata": {},
     "output_type": "display_data"
    }
   ],
   "source": [
    "plt.plot()"
   ]
  },
  {
   "cell_type": "code",
   "execution_count": 131,
   "id": "bd555f68",
   "metadata": {},
   "outputs": [],
   "source": [
    "max_a = 1000\n",
    "max_b = 500\n",
    "\n",
    "A = np.linspace(0, max_a, 1000)\n",
    "B = (max_b * (max_a - A)) / max_a"
   ]
  },
  {
   "cell_type": "code",
   "execution_count": 149,
   "id": "6a6514fa",
   "metadata": {},
   "outputs": [
    {
     "name": "stdout",
     "output_type": "stream",
     "text": [
      "Hello [   0.            1.001001      2.002002      3.003003      4.004004\n",
      "    5.00500501    6.00600601    7.00700701    8.00800801    9.00900901\n",
      "   10.01001001   11.01101101   12.01201201   13.01301301   14.01401401\n",
      "   15.01501502   16.01601602   17.01701702   18.01801802   19.01901902\n",
      "   20.02002002   21.02102102   22.02202202   23.02302302   24.02402402\n",
      "   25.02502503   26.02602603   27.02702703   28.02802803   29.02902903\n",
      "   30.03003003   31.03103103   32.03203203   33.03303303   34.03403403\n",
      "   35.03503504   36.03603604   37.03703704   38.03803804   39.03903904\n",
      "   40.04004004   41.04104104   42.04204204   43.04304304   44.04404404\n",
      "   45.04504505   46.04604605   47.04704705   48.04804805   49.04904905\n",
      "   50.05005005   51.05105105   52.05205205   53.05305305   54.05405405\n",
      "   55.05505506   56.05605606   57.05705706   58.05805806   59.05905906\n",
      "   60.06006006   61.06106106   62.06206206   63.06306306   64.06406406\n",
      "   65.06506507   66.06606607   67.06706707   68.06806807   69.06906907\n",
      "   70.07007007   71.07107107   72.07207207   73.07307307   74.07407407\n",
      "   75.07507508   76.07607608   77.07707708   78.07807808   79.07907908\n",
      "   80.08008008   81.08108108   82.08208208   83.08308308   84.08408408\n",
      "   85.08508509   86.08608609   87.08708709   88.08808809   89.08908909\n",
      "   90.09009009   91.09109109   92.09209209   93.09309309   94.09409409\n",
      "   95.0950951    96.0960961    97.0970971    98.0980981    99.0990991\n",
      "  100.1001001   101.1011011   102.1021021   103.1031031   104.1041041\n",
      "  105.10510511  106.10610611  107.10710711  108.10810811  109.10910911\n",
      "  110.11011011  111.11111111  112.11211211  113.11311311  114.11411411\n",
      "  115.11511512  116.11611612  117.11711712  118.11811812  119.11911912\n",
      "  120.12012012  121.12112112  122.12212212  123.12312312  124.12412412\n",
      "  125.12512513  126.12612613  127.12712713  128.12812813  129.12912913\n",
      "  130.13013013  131.13113113  132.13213213  133.13313313  134.13413413\n",
      "  135.13513514  136.13613614  137.13713714  138.13813814  139.13913914\n",
      "  140.14014014  141.14114114  142.14214214  143.14314314  144.14414414\n",
      "  145.14514515  146.14614615  147.14714715  148.14814815  149.14914915\n",
      "  150.15015015  151.15115115  152.15215215  153.15315315  154.15415415\n",
      "  155.15515516  156.15615616  157.15715716  158.15815816  159.15915916\n",
      "  160.16016016  161.16116116  162.16216216  163.16316316  164.16416416\n",
      "  165.16516517  166.16616617  167.16716717  168.16816817  169.16916917\n",
      "  170.17017017  171.17117117  172.17217217  173.17317317  174.17417417\n",
      "  175.17517518  176.17617618  177.17717718  178.17817818  179.17917918\n",
      "  180.18018018  181.18118118  182.18218218  183.18318318  184.18418418\n",
      "  185.18518519  186.18618619  187.18718719  188.18818819  189.18918919\n",
      "  190.19019019  191.19119119  192.19219219  193.19319319  194.19419419\n",
      "  195.1951952   196.1961962   197.1971972   198.1981982   199.1991992\n",
      "  200.2002002   201.2012012   202.2022022   203.2032032   204.2042042\n",
      "  205.20520521  206.20620621  207.20720721  208.20820821  209.20920921\n",
      "  210.21021021  211.21121121  212.21221221  213.21321321  214.21421421\n",
      "  215.21521522  216.21621622  217.21721722  218.21821822  219.21921922\n",
      "  220.22022022  221.22122122  222.22222222  223.22322322  224.22422422\n",
      "  225.22522523  226.22622623  227.22722723  228.22822823  229.22922923\n",
      "  230.23023023  231.23123123  232.23223223  233.23323323  234.23423423\n",
      "  235.23523524  236.23623624  237.23723724  238.23823824  239.23923924\n",
      "  240.24024024  241.24124124  242.24224224  243.24324324  244.24424424\n",
      "  245.24524525  246.24624625  247.24724725  248.24824825  249.24924925\n",
      "  250.25025025  251.25125125  252.25225225  253.25325325  254.25425425\n",
      "  255.25525526  256.25625626  257.25725726  258.25825826  259.25925926\n",
      "  260.26026026  261.26126126  262.26226226  263.26326326  264.26426426\n",
      "  265.26526527  266.26626627  267.26726727  268.26826827  269.26926927\n",
      "  270.27027027  271.27127127  272.27227227  273.27327327  274.27427427\n",
      "  275.27527528  276.27627628  277.27727728  278.27827828  279.27927928\n",
      "  280.28028028  281.28128128  282.28228228  283.28328328  284.28428428\n",
      "  285.28528529  286.28628629  287.28728729  288.28828829  289.28928929\n",
      "  290.29029029  291.29129129  292.29229229  293.29329329  294.29429429\n",
      "  295.2952953   296.2962963   297.2972973   298.2982983   299.2992993\n",
      "  300.3003003   301.3013013   302.3023023   303.3033033   304.3043043\n",
      "  305.30530531  306.30630631  307.30730731  308.30830831  309.30930931\n",
      "  310.31031031  311.31131131  312.31231231  313.31331331  314.31431431\n",
      "  315.31531532  316.31631632  317.31731732  318.31831832  319.31931932\n",
      "  320.32032032  321.32132132  322.32232232  323.32332332  324.32432432\n",
      "  325.32532533  326.32632633  327.32732733  328.32832833  329.32932933\n",
      "  330.33033033  331.33133133  332.33233233  333.33333333  334.33433433\n",
      "  335.33533534  336.33633634  337.33733734  338.33833834  339.33933934\n",
      "  340.34034034  341.34134134  342.34234234  343.34334334  344.34434434\n",
      "  345.34534535  346.34634635  347.34734735  348.34834835  349.34934935\n",
      "  350.35035035  351.35135135  352.35235235  353.35335335  354.35435435\n",
      "  355.35535536  356.35635636  357.35735736  358.35835836  359.35935936\n",
      "  360.36036036  361.36136136  362.36236236  363.36336336  364.36436436\n",
      "  365.36536537  366.36636637  367.36736737  368.36836837  369.36936937\n",
      "  370.37037037  371.37137137  372.37237237  373.37337337  374.37437437\n",
      "  375.37537538  376.37637638  377.37737738  378.37837838  379.37937938\n",
      "  380.38038038  381.38138138  382.38238238  383.38338338  384.38438438\n",
      "  385.38538539  386.38638639  387.38738739  388.38838839  389.38938939\n",
      "  390.39039039  391.39139139  392.39239239  393.39339339  394.39439439\n",
      "  395.3953954   396.3963964   397.3973974   398.3983984   399.3993994\n",
      "  400.4004004   401.4014014   402.4024024   403.4034034   404.4044044\n",
      "  405.40540541  406.40640641  407.40740741  408.40840841  409.40940941\n",
      "  410.41041041  411.41141141  412.41241241  413.41341341  414.41441441\n",
      "  415.41541542  416.41641642  417.41741742  418.41841842  419.41941942\n",
      "  420.42042042  421.42142142  422.42242242  423.42342342  424.42442442\n",
      "  425.42542543  426.42642643  427.42742743  428.42842843  429.42942943\n",
      "  430.43043043  431.43143143  432.43243243  433.43343343  434.43443443\n",
      "  435.43543544  436.43643644  437.43743744  438.43843844  439.43943944\n",
      "  440.44044044  441.44144144  442.44244244  443.44344344  444.44444444\n",
      "  445.44544545  446.44644645  447.44744745  448.44844845  449.44944945\n",
      "  450.45045045  451.45145145  452.45245245  453.45345345  454.45445445\n",
      "  455.45545546  456.45645646  457.45745746  458.45845846  459.45945946\n",
      "  460.46046046  461.46146146  462.46246246  463.46346346  464.46446446\n",
      "  465.46546547  466.46646647  467.46746747  468.46846847  469.46946947\n",
      "  470.47047047  471.47147147  472.47247247  473.47347347  474.47447447\n",
      "  475.47547548  476.47647648  477.47747748  478.47847848  479.47947948\n",
      "  480.48048048  481.48148148  482.48248248  483.48348348  484.48448448\n",
      "  485.48548549  486.48648649  487.48748749  488.48848849  489.48948949\n",
      "  490.49049049  491.49149149  492.49249249  493.49349349  494.49449449\n",
      "  495.4954955   496.4964965   497.4974975   498.4984985   499.4994995\n",
      "  500.5005005   501.5015015   502.5025025   503.5035035   504.5045045\n",
      "  505.50550551  506.50650651  507.50750751  508.50850851  509.50950951\n",
      "  510.51051051  511.51151151  512.51251251  513.51351351  514.51451451\n",
      "  515.51551552  516.51651652  517.51751752  518.51851852  519.51951952\n",
      "  520.52052052  521.52152152  522.52252252  523.52352352  524.52452452\n",
      "  525.52552553  526.52652653  527.52752753  528.52852853  529.52952953\n",
      "  530.53053053  531.53153153  532.53253253  533.53353353  534.53453453\n",
      "  535.53553554  536.53653654  537.53753754  538.53853854  539.53953954\n",
      "  540.54054054  541.54154154  542.54254254  543.54354354  544.54454454\n",
      "  545.54554555  546.54654655  547.54754755  548.54854855  549.54954955\n",
      "  550.55055055  551.55155155  552.55255255  553.55355355  554.55455455\n",
      "  555.55555556  556.55655656  557.55755756  558.55855856  559.55955956\n",
      "  560.56056056  561.56156156  562.56256256  563.56356356  564.56456456\n",
      "  565.56556557  566.56656657  567.56756757  568.56856857  569.56956957\n",
      "  570.57057057  571.57157157  572.57257257  573.57357357  574.57457457\n",
      "  575.57557558  576.57657658  577.57757758  578.57857858  579.57957958\n",
      "  580.58058058  581.58158158  582.58258258  583.58358358  584.58458458\n",
      "  585.58558559  586.58658659  587.58758759  588.58858859  589.58958959\n",
      "  590.59059059  591.59159159  592.59259259  593.59359359  594.59459459\n",
      "  595.5955956   596.5965966   597.5975976   598.5985986   599.5995996\n",
      "  600.6006006   601.6016016   602.6026026   603.6036036   604.6046046\n",
      "  605.60560561  606.60660661  607.60760761  608.60860861  609.60960961\n",
      "  610.61061061  611.61161161  612.61261261  613.61361361  614.61461461\n",
      "  615.61561562  616.61661662  617.61761762  618.61861862  619.61961962\n",
      "  620.62062062  621.62162162  622.62262262  623.62362362  624.62462462\n",
      "  625.62562563  626.62662663  627.62762763  628.62862863  629.62962963\n",
      "  630.63063063  631.63163163  632.63263263  633.63363363  634.63463463\n",
      "  635.63563564  636.63663664  637.63763764  638.63863864  639.63963964\n",
      "  640.64064064  641.64164164  642.64264264  643.64364364  644.64464464\n",
      "  645.64564565  646.64664665  647.64764765  648.64864865  649.64964965\n",
      "  650.65065065  651.65165165  652.65265265  653.65365365  654.65465465\n",
      "  655.65565566  656.65665666  657.65765766  658.65865866  659.65965966\n",
      "  660.66066066  661.66166166  662.66266266  663.66366366  664.66466466\n",
      "  665.66566567  666.66666667  667.66766767  668.66866867  669.66966967\n",
      "  670.67067067  671.67167167  672.67267267  673.67367367  674.67467467\n",
      "  675.67567568  676.67667668  677.67767768  678.67867868  679.67967968\n",
      "  680.68068068  681.68168168  682.68268268  683.68368368  684.68468468\n",
      "  685.68568569  686.68668669  687.68768769  688.68868869  689.68968969\n",
      "  690.69069069  691.69169169  692.69269269  693.69369369  694.69469469\n",
      "  695.6956957   696.6966967   697.6976977   698.6986987   699.6996997\n",
      "  700.7007007   701.7017017   702.7027027   703.7037037   704.7047047\n",
      "  705.70570571  706.70670671  707.70770771  708.70870871  709.70970971\n",
      "  710.71071071  711.71171171  712.71271271  713.71371371  714.71471471\n",
      "  715.71571572  716.71671672  717.71771772  718.71871872  719.71971972\n",
      "  720.72072072  721.72172172  722.72272272  723.72372372  724.72472472\n",
      "  725.72572573  726.72672673  727.72772773  728.72872873  729.72972973\n",
      "  730.73073073  731.73173173  732.73273273  733.73373373  734.73473473\n",
      "  735.73573574  736.73673674  737.73773774  738.73873874  739.73973974\n",
      "  740.74074074  741.74174174  742.74274274  743.74374374  744.74474474\n",
      "  745.74574575  746.74674675  747.74774775  748.74874875  749.74974975\n",
      "  750.75075075  751.75175175  752.75275275  753.75375375  754.75475475\n",
      "  755.75575576  756.75675676  757.75775776  758.75875876  759.75975976\n",
      "  760.76076076  761.76176176  762.76276276  763.76376376  764.76476476\n",
      "  765.76576577  766.76676677  767.76776777  768.76876877  769.76976977\n",
      "  770.77077077  771.77177177  772.77277277  773.77377377  774.77477477\n",
      "  775.77577578  776.77677678  777.77777778  778.77877878  779.77977978\n",
      "  780.78078078  781.78178178  782.78278278  783.78378378  784.78478478\n",
      "  785.78578579  786.78678679  787.78778779  788.78878879  789.78978979\n",
      "  790.79079079  791.79179179  792.79279279  793.79379379  794.79479479\n",
      "  795.7957958   796.7967968   797.7977978   798.7987988   799.7997998\n",
      "  800.8008008   801.8018018   802.8028028   803.8038038   804.8048048\n",
      "  805.80580581  806.80680681  807.80780781  808.80880881  809.80980981\n",
      "  810.81081081  811.81181181  812.81281281  813.81381381  814.81481481\n",
      "  815.81581582  816.81681682  817.81781782  818.81881882  819.81981982\n",
      "  820.82082082  821.82182182  822.82282282  823.82382382  824.82482482\n",
      "  825.82582583  826.82682683  827.82782783  828.82882883  829.82982983\n",
      "  830.83083083  831.83183183  832.83283283  833.83383383  834.83483483\n",
      "  835.83583584  836.83683684  837.83783784  838.83883884  839.83983984\n",
      "  840.84084084  841.84184184  842.84284284  843.84384384  844.84484484\n",
      "  845.84584585  846.84684685  847.84784785  848.84884885  849.84984985\n",
      "  850.85085085  851.85185185  852.85285285  853.85385385  854.85485485\n",
      "  855.85585586  856.85685686  857.85785786  858.85885886  859.85985986\n",
      "  860.86086086  861.86186186  862.86286286  863.86386386  864.86486486\n",
      "  865.86586587  866.86686687  867.86786787  868.86886887  869.86986987\n",
      "  870.87087087  871.87187187  872.87287287  873.87387387  874.87487487\n",
      "  875.87587588  876.87687688  877.87787788  878.87887888  879.87987988\n",
      "  880.88088088  881.88188188  882.88288288  883.88388388  884.88488488\n",
      "  885.88588589  886.88688689  887.88788789  888.88888889  889.88988989\n",
      "  890.89089089  891.89189189  892.89289289  893.89389389  894.89489489\n",
      "  895.8958959   896.8968969   897.8978979   898.8988989   899.8998999\n",
      "  900.9009009   901.9019019   902.9029029   903.9039039   904.9049049\n",
      "  905.90590591  906.90690691  907.90790791  908.90890891  909.90990991\n",
      "  910.91091091  911.91191191  912.91291291  913.91391391  914.91491491\n",
      "  915.91591592  916.91691692  917.91791792  918.91891892  919.91991992\n",
      "  920.92092092  921.92192192  922.92292292  923.92392392  924.92492492\n",
      "  925.92592593  926.92692693  927.92792793  928.92892893  929.92992993\n",
      "  930.93093093  931.93193193  932.93293293  933.93393393  934.93493493\n",
      "  935.93593594  936.93693694  937.93793794  938.93893894  939.93993994\n",
      "  940.94094094  941.94194194  942.94294294  943.94394394  944.94494494\n",
      "  945.94594595  946.94694695  947.94794795  948.94894895  949.94994995\n",
      "  950.95095095  951.95195195  952.95295295  953.95395395  954.95495495\n",
      "  955.95595596  956.95695696  957.95795796  958.95895896  959.95995996\n",
      "  960.96096096  961.96196196  962.96296296  963.96396396  964.96496496\n",
      "  965.96596597  966.96696697  967.96796797  968.96896897  969.96996997\n",
      "  970.97097097  971.97197197  972.97297297  973.97397397  974.97497497\n",
      "  975.97597598  976.97697698  977.97797798  978.97897898  979.97997998\n",
      "  980.98098098  981.98198198  982.98298298  983.98398398  984.98498498\n",
      "  985.98598599  986.98698699  987.98798799  988.98898899  989.98998999\n",
      "  990.99099099  991.99199199  992.99299299  993.99399399  994.99499499\n",
      "  995.995996    996.996997    997.997998    998.998999   1000.        ]\n"
     ]
    }
   ],
   "source": [
    "#print(A)\n",
    "#print(B)\n",
    "print(\"Hello\", A)"
   ]
  },
  {
   "cell_type": "code",
   "execution_count": 151,
   "id": "3fa738e2",
   "metadata": {},
   "outputs": [
    {
     "data": {
      "image/png": "[encoded data removed]",
      "text/plain": [
       "<Figure size 700x700 with 1 Axes>"
      ]
     },
     "metadata": {},
     "output_type": "display_data"
    }
   ],
   "source": [
    "plt.figure(figsize = (7, 7))\n",
    "plt.plot(A,B, label = \"PPC\", color = \"black\")\n",
    "plt.fill_between(A, B, color = \"red\", alpha = 0.9)\n",
    "plt.title(\"PPC constant trade off\")\n",
    "plt.xlabel(\"A\")\n",
    "plt.ylabel(\"B\")\n",
    "plt.xlim(0, max_a)\n",
    "plt.ylim(0, max_b)\n",
    "plt.grid(True)\n",
    "plt.legend()\n",
    "plt.show()"
   ]
  },
  {
   "cell_type": "code",
   "execution_count": null,
   "id": "b3986574",
   "metadata": {},
   "outputs": [],
   "source": []
  }
 ],
 "metadata": {
  "kernelspec": {
   "display_name": "Python 3 (ipykernel)",
   "language": "python",
   "name": "python3"
  },
  "language_info": {
   "codemirror_mode": {
    "name": "ipython",
    "version": 3
   },
   "file_extension": ".py",
   "mimetype": "text/x-python",
   "name": "python",
   "nbconvert_exporter": "python",
   "pygments_lexer": "ipython3",
   "version": "3.9.13"
  }
 },
 "nbformat": 4,
 "nbformat_minor": 5
}
